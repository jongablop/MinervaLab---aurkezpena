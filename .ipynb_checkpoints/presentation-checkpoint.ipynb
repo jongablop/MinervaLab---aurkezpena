{
 "cells": [
  {
   "cell_type": "code",
   "execution_count": 25,
   "metadata": {
    "init_cell": true,
    "slideshow": {
     "slide_type": "skip"
    }
   },
   "outputs": [],
   "source": [
    "from bqplot import *\n",
    "import bqplot as bq\n",
    "import bqplot.marks as bqm\n",
    "import bqplot.scales as bqs\n",
    "import bqplot.axes as bqa\n",
    "\n",
    "import ipywidgets as widgets\n",
    "\n",
    "from IPython.display import Image, IFrame, YouTubeVideo\n",
    "\n",
    "import pandas as pd\n",
    "import numpy as np\n",
    "\n",
    "import matplotlib.pyplot as plt"
   ]
  },
  {
   "cell_type": "code",
   "execution_count": 26,
   "metadata": {
    "init_cell": true,
    "slideshow": {
     "slide_type": "skip"
    }
   },
   "outputs": [
    {
     "data": {
      "text/html": [
       "<link href=\"https://fonts.googleapis.com/css2?family=Montserrat:ital,wght@0,300;0,400;1,300;1,400&display=swap\" rel=\"stylesheet\"> <style>\n",
       ".reveal h1, .reveal h2, .reveal h3, .reveal h4, .reveal h5, .reveal h6 {\n",
       "    font-family: 'Montserrat', sans-serif;\n",
       "    font-weight: normal !important;\n",
       "}\n",
       ".rendered_html h1, .rendered_html h2, .rendered_html h3, .rendered_html h4, .rendered_html h5, .rendered_html h6{\n",
       "    font-weight: normal !important;\n",
       "    \n",
       "}\n",
       ".jupyter-widgets  {\n",
       "    font-family: 'Montserrat', sans-serif !important;\n",
       "}\n",
       "\n",
       ".present {\n",
       "    top: 0px;\n",
       "}\n",
       "</style>   \n",
       "\n",
       "<script>\n",
       "Reveal.addEventListener('fragmentshown', function(event) {\n",
       "   document.getElementById(\"postfragment\").style.color=\"red !important\"; \n",
       "});\n",
       "</script>\n"
      ],
      "text/plain": [
       "<IPython.core.display.HTML object>"
      ]
     },
     "metadata": {},
     "output_type": "display_data"
    }
   ],
   "source": [
    "%%html\n",
    "<link href=\"https://fonts.googleapis.com/css2?family=Montserrat:ital,wght@0,300;0,400;1,300;1,400&display=swap\" rel=\"stylesheet\"> <style>\n",
    ".reveal h1, .reveal h2, .reveal h3, .reveal h4, .reveal h5, .reveal h6 {\n",
    "    font-family: 'Montserrat', sans-serif;\n",
    "    font-weight: normal !important;\n",
    "}\n",
    ".rendered_html h1, .rendered_html h2, .rendered_html h3, .rendered_html h4, .rendered_html h5, .rendered_html h6{\n",
    "    font-weight: normal !important;\n",
    "    \n",
    "}\n",
    ".jupyter-widgets  {\n",
    "    font-family: 'Montserrat', sans-serif !important;\n",
    "}\n",
    "\n",
    ".present {\n",
    "    top: 0px;\n",
    "}\n",
    "</style>   \n",
    "\n",
    "<script>\n",
    "Reveal.addEventListener('fragmentshown', function(event) {\n",
    "   document.getElementById(\"postfragment\").style.color=\"red !important\"; \n",
    "});\n",
    "</script>"
   ]
  },
  {
   "cell_type": "markdown",
   "metadata": {
    "slideshow": {
     "slide_type": "slide"
    }
   },
   "source": [
    "<img src=\"static/images/FCT_bilingüe_postivo_alta.jpg\" alt=\"Zientzia eta Teknologia Fakultatea\" width=\"400\">"
   ]
  },
  {
   "cell_type": "markdown",
   "metadata": {
    "slideshow": {
     "slide_type": "-"
    }
   },
   "source": [
    "<center><h1 style=\"margin: 0 0 0 0;\">MinervaLab</h1></center>\n",
    "\n",
    "<hr style=\"border: 3px solid #ffbe19;border-radius: 3px; opacity: 0.5;\">\n",
    "\n",
    "<center><h4>Jupyter Notebook-etan oinarritutako irakaskuntza-proiektu alternatiboa</h4></center>"
   ]
  },
  {
   "cell_type": "markdown",
   "metadata": {},
   "source": [
    "<center>\n",
    "    <h4 style=\"margin: 80px 0 0 0;\"><i style=\"opacity: 0.5;margin: 0 30px 0 0;\">Egilea:</i> Jon Gabirondo López</h4>\n",
    "    <h4 style=\"margin: 40px 0 0 0;\"><i style=\"opacity: 0.5;margin: 0 30px 0 0;\">Zuzendaria:</i> Josu M. Igartua</h4>\n",
    "</center>"
   ]
  },
  {
   "cell_type": "code",
   "execution_count": 27,
   "metadata": {
    "init_cell": true,
    "slideshow": {
     "slide_type": "skip"
    }
   },
   "outputs": [],
   "source": [
    "def galdera_histograma(galdera, prozesatutako_erantzunak):\n",
    "    \n",
    "    bai = 0\n",
    "    ez = 0\n",
    "    biak = 0\n",
    "\n",
    "    jasotako_er = 0\n",
    "    \n",
    "    for erantzuna in prozesatutako_erantzunak:\n",
    "        e = erantzuna.get(galdera)\n",
    "        if e != '':\n",
    "            if e == 'Bai':\n",
    "                bai =  bai + 1\n",
    "            elif e == 'Ez':\n",
    "                ez =  ez + 1\n",
    "            elif e == 'Biak':\n",
    "                biak =  biak + 1\n",
    "                \n",
    "            jasotako_er = jasotako_er + 1\n",
    "            \n",
    "    return {'Bai': bai, 'Ez': ez, 'Biak': biak}, jasotako_er, {'Bai': bai/jasotako_er, 'Ez': ez/jasotako_er, 'Biak': biak/jasotako_er} "
   ]
  },
  {
   "cell_type": "code",
   "execution_count": 28,
   "metadata": {
    "hide_input": true,
    "init_cell": true,
    "slideshow": {
     "slide_type": "skip"
    }
   },
   "outputs": [],
   "source": [
    "galdera_guztiak = [\n",
    "    'Tresnak nire atentzioa deitu du',\n",
    "    'Normalean baino gehiago atenditu dut',\n",
    "    'Ez zait batere gustatu',\n",
    "    'Klase emateko modu aproposa iruditzen zait',\n",
    "    'Horrelako klase gehiago jasoko nituzke',\n",
    "    'Proiektua interesatu zait',\n",
    "    'Hainbat iruzkin/gomendio emango nituzke',\n",
    "    'Guztiz galdu naiz',\n",
    "    'Nahiago dut klaseak emateko modu \"tradizionala\"',\n",
    "    'Tresna erabiltzeak klasea jarraitzeko zailtasunak sortu dizkit',\n",
    "    'Diseinuaren aldetik oso baldarra eta itsusia iruditu zait',\n",
    "    'Horrelako proiektuetan parte hartuko nuke',\n",
    "    'Ez dut ezer ulertu',\n",
    "    'Nire lehenengo konbokatoria da',\n",
    "    'Aurreko urteetan baino hobeto ulertu dut',\n",
    "    'Nahiago dut aurreko urteetako metodologia',\n",
    "]"
   ]
  },
  {
   "cell_type": "code",
   "execution_count": 29,
   "metadata": {
    "hide_input": true,
    "init_cell": true,
    "slideshow": {
     "slide_type": "skip"
    }
   },
   "outputs": [],
   "source": [
    "inkestak_emaitzak = [{'Tresnak nire atentzioa deitu du': 'Bai',\n",
    "  'Normalean baino gehiago atenditu dut': 'Ez',\n",
    "  'Ez zait batere gustatu': 'Bai',\n",
    "  'Klase emateko modu aproposa iruditzen zait': 'Bai',\n",
    "  'Horrelako klase gehiago jasoko nituzke': 'Bai',\n",
    "  'Proiektua interesatu zait': 'Bai',\n",
    "  'Hainbat iruzkin/gomendio emango nituzke': 'Ez',\n",
    "  'Guztiz galdu naiz': 'Ez',\n",
    "  'Nahiago dut klaseak emateko modu \"tradizionala\"': 'Ez',\n",
    "  'Tresna erabiltzeak klasea jarraitzeko zailtasunak sortu dizkit': 'Bai',\n",
    "  'Diseinuaren aldetik oso baldarra eta itsusia iruditu zait': 'Ez',\n",
    "  'Horrelako proiektuetan parte hartuko nuke': 'Ez',\n",
    "  'Ez dut ezer ulertu': 'Ez',\n",
    "  'Nire lehenengo konbokatoria da': 'Bai',\n",
    "  'Nota': 8,\n",
    "  'Iruzkina': 'Grafikoak eta hauek erabiltzeko erraztasuna ona da baina ez zait erraza iruditu programetara iristeko era.'},\n",
    " {'Tresnak nire atentzioa deitu du': 'Bai',\n",
    "  'Normalean baino gehiago atenditu dut': 'Bai',\n",
    "  'Ez zait batere gustatu': 'Bai',\n",
    "  'Klase emateko modu aproposa iruditzen zait': '',\n",
    "  'Horrelako klase gehiago jasoko nituzke': '',\n",
    "  'Proiektua interesatu zait': 'Bai',\n",
    "  'Hainbat iruzkin/gomendio emango nituzke': 'Ez',\n",
    "  'Guztiz galdu naiz': 'Ez',\n",
    "  'Nahiago dut klaseak emateko modu \"tradizionala\"': 'Ez',\n",
    "  'Tresna erabiltzeak klasea jarraitzeko zailtasunak sortu dizkit': 'Ez',\n",
    "  'Diseinuaren aldetik oso baldarra eta itsusia iruditu zait': '',\n",
    "  'Horrelako proiektuetan parte hartuko nuke': 'Ez',\n",
    "  'Ez dut ezer ulertu': 'Ez',\n",
    "  'Nire lehenengo konbokatoria da': 'Bai',\n",
    "  'Nota': 8,\n",
    "  'Iruzkina': 'Klasea emateko modu aproposa iruditzen zait, baina modu hau eta tradizionala konbinatuko nituzke.'},\n",
    " {'Tresnak nire atentzioa deitu du': 'Ez',\n",
    "  'Normalean baino gehiago atenditu dut': 'Ez',\n",
    "  'Ez zait batere gustatu': 'Ez',\n",
    "  'Klase emateko modu aproposa iruditzen zait': 'Bai',\n",
    "  'Horrelako klase gehiago jasoko nituzke': 'Bai',\n",
    "  'Proiektua interesatu zait': 'Ez',\n",
    "  'Hainbat iruzkin/gomendio emango nituzke': 'Bai',\n",
    "  'Guztiz galdu naiz': 'Ez',\n",
    "  'Nahiago dut klaseak emateko modu \"tradizionala\"': 'Ez',\n",
    "  'Tresna erabiltzeak klasea jarraitzeko zailtasunak sortu dizkit': 'Ez',\n",
    "  'Diseinuaren aldetik oso baldarra eta itsusia iruditu zait': 'Biak',\n",
    "  'Horrelako proiektuetan parte hartuko nuke': 'Ez',\n",
    "  'Ez dut ezer ulertu': 'Ez',\n",
    "  'Nire lehenengo konbokatoria da': 'Bai',\n",
    "  'Nota': 8,\n",
    "  'Iruzkina': 'Sentikortasun handiko tarteetan aldaketa txikiak egiteko trasnaren bat jarriko nuke. Aurkezpenak egiteko grafikoak handiagoak izatea komeni da. Lerro ezberdinetarako kolore gehiago izatea aproposa litzateke.'},\n",
    " {'Tresnak nire atentzioa deitu du': 'Bai',\n",
    "  'Normalean baino gehiago atenditu dut': '',\n",
    "  'Ez zait batere gustatu': 'Ez',\n",
    "  'Klase emateko modu aproposa iruditzen zait': 'Bai',\n",
    "  'Horrelako klase gehiago jasoko nituzke': 'Bai',\n",
    "  'Proiektua interesatu zait': 'Bai',\n",
    "  'Hainbat iruzkin/gomendio emango nituzke': 'Bai',\n",
    "  'Guztiz galdu naiz': 'Ez',\n",
    "  'Nahiago dut klaseak emateko modu \"tradizionala\"': 'Ez',\n",
    "  'Tresna erabiltzeak klasea jarraitzeko zailtasunak sortu dizkit': 'Ez',\n",
    "  'Diseinuaren aldetik oso baldarra eta itsusia iruditu zait': '',\n",
    "  'Horrelako proiektuetan parte hartuko nuke': '',\n",
    "  'Ez dut ezer ulertu': 'Ez',\n",
    "  'Nire lehenengo konbokatoria da': 'Ez',\n",
    "  'Aurreko urteetan baino hobeto ulertu dut': 'Bai',\n",
    "  'Nahiago dut aurreko urteetako metodologia': 'Ez',\n",
    "  'Nota': 10,\n",
    "  'Iruzkina': 'Klasean proiektatzeko txikiegiak dira irudiak, grafiko bakoitzak pantaila osoa okupatu beharko luke ondo ikusteko.'},\n",
    " {'Tresnak nire atentzioa deitu du': 'Bai',\n",
    "  'Normalean baino gehiago atenditu dut': 'Bai',\n",
    "  'Ez zait batere gustatu': 'Ez',\n",
    "  'Klase emateko modu aproposa iruditzen zait': 'Bai',\n",
    "  'Horrelako klase gehiago jasoko nituzke': 'Bai',\n",
    "  'Proiektua interesatu zait': 'Bai',\n",
    "  'Hainbat iruzkin/gomendio emango nituzke': 'Bai',\n",
    "  'Guztiz galdu naiz': 'Ez',\n",
    "  'Nahiago dut klaseak emateko modu \"tradizionala\"': 'Ez',\n",
    "  'Tresna erabiltzeak klasea jarraitzeko zailtasunak sortu dizkit': 'Ez',\n",
    "  'Diseinuaren aldetik oso baldarra eta itsusia iruditu zait': 'Ez',\n",
    "  'Horrelako proiektuetan parte hartuko nuke': 'Ez',\n",
    "  'Ez dut ezer ulertu': 'Ez',\n",
    "  'Nire lehenengo konbokatoria da': 'Ez',\n",
    "  'Aurreko urteetan baino hobeto ulertu dut': 'Bai',\n",
    "  'Nahiago dut aurreko urteetako metodologia': 'Ez',\n",
    "  'Nota': 10,\n",
    "  'Iruzkina': 'Interesgarria izango litzateke fase trantsizio jarraiak (p(T) diagraman) bukaeran erakutsi duzuen likido/gas blokeen eran ikustea'},\n",
    " {'Tresnak nire atentzioa deitu du': 'Bai',\n",
    "  'Normalean baino gehiago atenditu dut': 'Bai',\n",
    "  'Ez zait batere gustatu': 'Ez',\n",
    "  'Klase emateko modu aproposa iruditzen zait': 'Bai',\n",
    "  'Horrelako klase gehiago jasoko nituzke': 'Bai',\n",
    "  'Proiektua interesatu zait': 'Bai',\n",
    "  'Hainbat iruzkin/gomendio emango nituzke': 'Bai',\n",
    "  'Guztiz galdu naiz': 'Ez',\n",
    "  'Nahiago dut klaseak emateko modu \"tradizionala\"': 'Ez',\n",
    "  'Tresna erabiltzeak klasea jarraitzeko zailtasunak sortu dizkit': 'Ez',\n",
    "  'Diseinuaren aldetik oso baldarra eta itsusia iruditu zait': 'Ez',\n",
    "  'Horrelako proiektuetan parte hartuko nuke': 'Ez',\n",
    "  'Ez dut ezer ulertu': 'Ez',\n",
    "  'Nire lehenengo konbokatoria da': 'Bai',\n",
    "  'Nota': 9,\n",
    "  'Iruzkina': ''},\n",
    " {'Tresnak nire atentzioa deitu du': 'Bai',\n",
    "  'Normalean baino gehiago atenditu dut': 'Bai',\n",
    "  'Ez zait batere gustatu': 'Ez',\n",
    "  'Klase emateko modu aproposa iruditzen zait': 'Bai',\n",
    "  'Horrelako klase gehiago jasoko nituzke': 'Bai',\n",
    "  'Proiektua interesatu zait': 'Ez',\n",
    "  'Hainbat iruzkin/gomendio emango nituzke': 'Ez',\n",
    "  'Guztiz galdu naiz': 'Bai',\n",
    "  'Nahiago dut klaseak emateko modu \"tradizionala\"': 'Ez',\n",
    "  'Tresna erabiltzeak klasea jarraitzeko zailtasunak sortu dizkit': 'Ez',\n",
    "  'Diseinuaren aldetik oso baldarra eta itsusia iruditu zait': 'Ez',\n",
    "  'Horrelako proiektuetan parte hartuko nuke': 'Bai',\n",
    "  'Ez dut ezer ulertu': 'Ez',\n",
    "  'Nire lehenengo konbokatoria da': 'Bai',\n",
    "  'Nota': 9,\n",
    "  'Iruzkina': ''},\n",
    " {'Tresnak nire atentzioa deitu du': 'Bai',\n",
    "  'Normalean baino gehiago atenditu dut': 'Bai',\n",
    "  'Ez zait batere gustatu': 'Ez',\n",
    "  'Klase emateko modu aproposa iruditzen zait': 'Bai',\n",
    "  'Horrelako klase gehiago jasoko nituzke': 'Bai',\n",
    "  'Proiektua interesatu zait': 'Bai',\n",
    "  'Hainbat iruzkin/gomendio emango nituzke': 'Ez',\n",
    "  'Guztiz galdu naiz': 'Bai',\n",
    "  'Nahiago dut klaseak emateko modu \"tradizionala\"': 'Ez',\n",
    "  'Tresna erabiltzeak klasea jarraitzeko zailtasunak sortu dizkit': 'Ez',\n",
    "  'Diseinuaren aldetik oso baldarra eta itsusia iruditu zait': 'Ez',\n",
    "  'Horrelako proiektuetan parte hartuko nuke': 'Bai',\n",
    "  'Ez dut ezer ulertu': 'Bai',\n",
    "  'Nire lehenengo konbokatoria da': 'Bai',\n",
    "  'Nota': 10,\n",
    "  'Iruzkina': ''},\n",
    " {'Tresnak nire atentzioa deitu du': 'Bai',\n",
    "  'Normalean baino gehiago atenditu dut': 'Bai',\n",
    "  'Ez zait batere gustatu': 'Ez',\n",
    "  'Klase emateko modu aproposa iruditzen zait': 'Bai',\n",
    "  'Horrelako klase gehiago jasoko nituzke': 'Bai',\n",
    "  'Proiektua interesatu zait': 'Bai',\n",
    "  'Hainbat iruzkin/gomendio emango nituzke': 'Bai',\n",
    "  'Guztiz galdu naiz': 'Ez',\n",
    "  'Nahiago dut klaseak emateko modu \"tradizionala\"': 'Ez',\n",
    "  'Tresna erabiltzeak klasea jarraitzeko zailtasunak sortu dizkit': 'Ez',\n",
    "  'Diseinuaren aldetik oso baldarra eta itsusia iruditu zait': 'Ez',\n",
    "  'Horrelako proiektuetan parte hartuko nuke': 'Ez',\n",
    "  'Ez dut ezer ulertu': 'Ez',\n",
    "  'Nire lehenengo konbokatoria da': 'Bai',\n",
    "  'Nota': 10,\n",
    "  'Iruzkina': ''},\n",
    " {'Tresnak nire atentzioa deitu du': 'Bai',\n",
    "  'Normalean baino gehiago atenditu dut': 'Bai',\n",
    "  'Ez zait batere gustatu': 'Ez',\n",
    "  'Klase emateko modu aproposa iruditzen zait': 'Bai',\n",
    "  'Horrelako klase gehiago jasoko nituzke': 'Bai',\n",
    "  'Proiektua interesatu zait': 'Bai',\n",
    "  'Hainbat iruzkin/gomendio emango nituzke': 'Ez',\n",
    "  'Guztiz galdu naiz': 'Ez',\n",
    "  'Nahiago dut klaseak emateko modu \"tradizionala\"': 'Ez',\n",
    "  'Tresna erabiltzeak klasea jarraitzeko zailtasunak sortu dizkit': 'Bai',\n",
    "  'Diseinuaren aldetik oso baldarra eta itsusia iruditu zait': 'Ez',\n",
    "  'Horrelako proiektuetan parte hartuko nuke': 'Ez',\n",
    "  'Ez dut ezer ulertu': 'Ez',\n",
    "  'Nire lehenengo konbokatoria da': 'Bai',\n",
    "  'Nota': 7.5,\n",
    "  'Iruzkina': ''},\n",
    " {'Tresnak nire atentzioa deitu du': '',\n",
    "  'Normalean baino gehiago atenditu dut': '',\n",
    "  'Ez zait batere gustatu': 'Ez',\n",
    "  'Klase emateko modu aproposa iruditzen zait': 'Bai',\n",
    "  'Horrelako klase gehiago jasoko nituzke': 'Bai',\n",
    "  'Proiektua interesatu zait': 'Bai',\n",
    "  'Hainbat iruzkin/gomendio emango nituzke': 'Ez',\n",
    "  'Guztiz galdu naiz': 'Ez',\n",
    "  'Nahiago dut klaseak emateko modu \"tradizionala\"': 'Ez',\n",
    "  'Tresna erabiltzeak klasea jarraitzeko zailtasunak sortu dizkit': 'Ez',\n",
    "  'Diseinuaren aldetik oso baldarra eta itsusia iruditu zait': 'Ez',\n",
    "  'Horrelako proiektuetan parte hartuko nuke': '',\n",
    "  'Ez dut ezer ulertu': 'Ez',\n",
    "  'Nire lehenengo konbokatoria da': 'Ez',\n",
    "  'Aurreko urteetan baino hobeto ulertu dut': 'Bai',\n",
    "  'Nahiago dut aurreko urteetako metodologia': 'Ez',\n",
    "  'Nota': 7,\n",
    "  'Iruzkina': ''},\n",
    " {'Tresnak nire atentzioa deitu du': 'Bai',\n",
    "  'Normalean baino gehiago atenditu dut': 'Bai',\n",
    "  'Ez zait batere gustatu': 'Ez',\n",
    "  'Klase emateko modu aproposa iruditzen zait': 'Bai',\n",
    "  'Horrelako klase gehiago jasoko nituzke': 'Bai',\n",
    "  'Proiektua interesatu zait': 'Bai',\n",
    "  'Hainbat iruzkin/gomendio emango nituzke': 'Ez',\n",
    "  'Guztiz galdu naiz': 'Ez',\n",
    "  'Nahiago dut klaseak emateko modu \"tradizionala\"': 'Bai',\n",
    "  'Tresna erabiltzeak klasea jarraitzeko zailtasunak sortu dizkit': 'Ez',\n",
    "  'Diseinuaren aldetik oso baldarra eta itsusia iruditu zait': 'Ez',\n",
    "  'Horrelako proiektuetan parte hartuko nuke': 'Ez',\n",
    "  'Ez dut ezer ulertu': 'Ez',\n",
    "  'Nire lehenengo konbokatoria da': 'Bai',\n",
    "  'Nota': 7.5,\n",
    "  'Iruzkina': ''},\n",
    " {'Tresnak nire atentzioa deitu du': 'Bai',\n",
    "  'Normalean baino gehiago atenditu dut': 'Ez',\n",
    "  'Ez zait batere gustatu': 'Ez',\n",
    "  'Klase emateko modu aproposa iruditzen zait': 'Bai',\n",
    "  'Horrelako klase gehiago jasoko nituzke': 'Bai',\n",
    "  'Proiektua interesatu zait': 'Ez',\n",
    "  'Hainbat iruzkin/gomendio emango nituzke': 'Ez',\n",
    "  'Guztiz galdu naiz': 'Ez',\n",
    "  'Nahiago dut klaseak emateko modu \"tradizionala\"': 'Bai',\n",
    "  'Tresna erabiltzeak klasea jarraitzeko zailtasunak sortu dizkit': 'Ez',\n",
    "  'Diseinuaren aldetik oso baldarra eta itsusia iruditu zait': 'Ez',\n",
    "  'Horrelako proiektuetan parte hartuko nuke': 'Ez',\n",
    "  'Ez dut ezer ulertu': 'Ez',\n",
    "  'Nire lehenengo konbokatoria da': 'Ez',\n",
    "  'Aurreko urteetan baino hobeto ulertu dut': 'Bai',\n",
    "  'Nahiago dut aurreko urteetako metodologia': 'Bai',\n",
    "  'Nota': 6,\n",
    "  'Iruzkina': ''},\n",
    " {'Tresnak nire atentzioa deitu du': 'Ez',\n",
    "  'Normalean baino gehiago atenditu dut': 'Ez',\n",
    "  'Ez zait batere gustatu': 'Ez',\n",
    "  'Klase emateko modu aproposa iruditzen zait': 'Ez',\n",
    "  'Horrelako klase gehiago jasoko nituzke': 'Ez',\n",
    "  'Proiektua interesatu zait': 'Ez',\n",
    "  'Hainbat iruzkin/gomendio emango nituzke': '',\n",
    "  'Guztiz galdu naiz': 'Bai',\n",
    "  'Nahiago dut klaseak emateko modu \"tradizionala\"': 'Bai',\n",
    "  'Tresna erabiltzeak klasea jarraitzeko zailtasunak sortu dizkit': 'Bai',\n",
    "  'Diseinuaren aldetik oso baldarra eta itsusia iruditu zait': '',\n",
    "  'Horrelako proiektuetan parte hartuko nuke': 'Ez',\n",
    "  'Ez dut ezer ulertu': 'Ez',\n",
    "  'Nire lehenengo konbokatoria da': 'Bai',\n",
    "  'Nota': 4,\n",
    "  'Iruzkina': ''},\n",
    " {'Tresnak nire atentzioa deitu du': 'Bai',\n",
    "  'Normalean baino gehiago atenditu dut': 'Ez',\n",
    "  'Ez zait batere gustatu': 'Ez',\n",
    "  'Klase emateko modu aproposa iruditzen zait': 'Bai',\n",
    "  'Horrelako klase gehiago jasoko nituzke': 'Bai',\n",
    "  'Proiektua interesatu zait': 'Bai',\n",
    "  'Hainbat iruzkin/gomendio emango nituzke': 'Ez',\n",
    "  'Guztiz galdu naiz': 'Ez',\n",
    "  'Nahiago dut klaseak emateko modu \"tradizionala\"': 'Ez',\n",
    "  'Tresna erabiltzeak klasea jarraitzeko zailtasunak sortu dizkit': 'Ez',\n",
    "  'Diseinuaren aldetik oso baldarra eta itsusia iruditu zait': 'Bai',\n",
    "  'Horrelako proiektuetan parte hartuko nuke': 'Bai',\n",
    "  'Ez dut ezer ulertu': 'Ez',\n",
    "  'Nire lehenengo konbokatoria da': 'Ez',\n",
    "  'Aurreko urteetan baino hobeto ulertu dut': 'Bai',\n",
    "  'Nahiago dut aurreko urteetako metodologia': 'Ez',\n",
    "  'Nota': 8,\n",
    "  'Iruzkina': ''},\n",
    " {'Tresnak nire atentzioa deitu du': 'Bai',\n",
    "  'Normalean baino gehiago atenditu dut': 'Ez',\n",
    "  'Ez zait batere gustatu': 'Ez',\n",
    "  'Klase emateko modu aproposa iruditzen zait': 'Bai',\n",
    "  'Horrelako klase gehiago jasoko nituzke': 'Bai',\n",
    "  'Proiektua interesatu zait': 'Bai',\n",
    "  'Hainbat iruzkin/gomendio emango nituzke': 'Ez',\n",
    "  'Guztiz galdu naiz': 'Ez',\n",
    "  'Nahiago dut klaseak emateko modu \"tradizionala\"': 'Ez',\n",
    "  'Tresna erabiltzeak klasea jarraitzeko zailtasunak sortu dizkit': 'Ez',\n",
    "  'Diseinuaren aldetik oso baldarra eta itsusia iruditu zait': 'Ez',\n",
    "  'Horrelako proiektuetan parte hartuko nuke': 'Ez',\n",
    "  'Ez dut ezer ulertu': 'Ez',\n",
    "  'Nire lehenengo konbokatoria da': 'Bai',\n",
    "  'Nota': 8,\n",
    "  'Iruzkina': ''},\n",
    " {'Tresnak nire atentzioa deitu du': 'Bai',\n",
    "  'Normalean baino gehiago atenditu dut': 'Ez',\n",
    "  'Ez zait batere gustatu': 'Ez',\n",
    "  'Klase emateko modu aproposa iruditzen zait': 'Bai',\n",
    "  'Horrelako klase gehiago jasoko nituzke': 'Bai',\n",
    "  'Proiektua interesatu zait': 'Bai',\n",
    "  'Hainbat iruzkin/gomendio emango nituzke': 'Ez',\n",
    "  'Guztiz galdu naiz': 'Ez',\n",
    "  'Nahiago dut klaseak emateko modu \"tradizionala\"': 'Bai',\n",
    "  'Tresna erabiltzeak klasea jarraitzeko zailtasunak sortu dizkit': 'Ez',\n",
    "  'Diseinuaren aldetik oso baldarra eta itsusia iruditu zait': 'Ez',\n",
    "  'Horrelako proiektuetan parte hartuko nuke': 'Bai',\n",
    "  'Ez dut ezer ulertu': 'Ez',\n",
    "  'Nire lehenengo konbokatoria da': 'Bai',\n",
    "  'Nota': 7,\n",
    "  'Iruzkina': ''},\n",
    " {'Tresnak nire atentzioa deitu du': 'Bai',\n",
    "  'Normalean baino gehiago atenditu dut': 'Ez',\n",
    "  'Ez zait batere gustatu': 'Ez',\n",
    "  'Klase emateko modu aproposa iruditzen zait': 'Bai',\n",
    "  'Horrelako klase gehiago jasoko nituzke': 'Bai',\n",
    "  'Proiektua interesatu zait': 'Bai',\n",
    "  'Hainbat iruzkin/gomendio emango nituzke': 'Biak',\n",
    "  'Guztiz galdu naiz': 'Ez',\n",
    "  'Nahiago dut klaseak emateko modu \"tradizionala\"': 'Ez',\n",
    "  'Tresna erabiltzeak klasea jarraitzeko zailtasunak sortu dizkit': 'Ez',\n",
    "  'Diseinuaren aldetik oso baldarra eta itsusia iruditu zait': 'Ez',\n",
    "  'Horrelako proiektuetan parte hartuko nuke': 'Bai',\n",
    "  'Ez dut ezer ulertu': 'Ez',\n",
    "  'Nire lehenengo konbokatoria da': 'Bai',\n",
    "  'Nota': 7,\n",
    "  'Iruzkina': ''},\n",
    " {'Tresnak nire atentzioa deitu du': 'Bai',\n",
    "  'Normalean baino gehiago atenditu dut': 'Ez',\n",
    "  'Ez zait batere gustatu': 'Ez',\n",
    "  'Klase emateko modu aproposa iruditzen zait': 'Bai',\n",
    "  'Horrelako klase gehiago jasoko nituzke': 'Bai',\n",
    "  'Proiektua interesatu zait': 'Bai',\n",
    "  'Hainbat iruzkin/gomendio emango nituzke': 'Ez',\n",
    "  'Guztiz galdu naiz': 'Ez',\n",
    "  'Nahiago dut klaseak emateko modu \"tradizionala\"': 'Ez',\n",
    "  'Tresna erabiltzeak klasea jarraitzeko zailtasunak sortu dizkit': 'Ez',\n",
    "  'Diseinuaren aldetik oso baldarra eta itsusia iruditu zait': 'Ez',\n",
    "  'Horrelako proiektuetan parte hartuko nuke': 'Ez',\n",
    "  'Ez dut ezer ulertu': 'Ez',\n",
    "  'Nire lehenengo konbokatoria da': 'Bai',\n",
    "  'Nota': 8,\n",
    "  'Iruzkina': 'Ondo egon da. Interesantea izan da eta gai honeri buruz gehiago ulertu dut, oso modu txukunean dago adierazita.'},\n",
    " {'Tresnak nire atentzioa deitu du': 'Ez',\n",
    "  'Normalean baino gehiago atenditu dut': 'Bai',\n",
    "  'Ez zait batere gustatu': 'Ez',\n",
    "  'Klase emateko modu aproposa iruditzen zait': 'Bai',\n",
    "  'Horrelako klase gehiago jasoko nituzke': 'Bai',\n",
    "  'Proiektua interesatu zait': 'Bai',\n",
    "  'Hainbat iruzkin/gomendio emango nituzke': 'Ez',\n",
    "  'Guztiz galdu naiz': 'Bai',\n",
    "  'Nahiago dut klaseak emateko modu \"tradizionala\"': 'Bai',\n",
    "  'Tresna erabiltzeak klasea jarraitzeko zailtasunak sortu dizkit': 'Bai',\n",
    "  'Diseinuaren aldetik oso baldarra eta itsusia iruditu zait': 'Ez',\n",
    "  'Horrelako proiektuetan parte hartuko nuke': 'Ez',\n",
    "  'Ez dut ezer ulertu': 'Ez',\n",
    "  'Nire lehenengo konbokatoria da': 'Bai',\n",
    "  'Nota': 6,\n",
    "  'Iruzkina': ''},\n",
    " {'Tresnak nire atentzioa deitu du': 'Bai',\n",
    "  'Normalean baino gehiago atenditu dut': 'Ez',\n",
    "  'Ez zait batere gustatu': 'Ez',\n",
    "  'Klase emateko modu aproposa iruditzen zait': 'Ez',\n",
    "  'Horrelako klase gehiago jasoko nituzke': 'Ez',\n",
    "  'Proiektua interesatu zait': 'Bai',\n",
    "  'Hainbat iruzkin/gomendio emango nituzke': 'Ez',\n",
    "  'Guztiz galdu naiz': 'Ez',\n",
    "  'Nahiago dut klaseak emateko modu \"tradizionala\"': 'Bai',\n",
    "  'Tresna erabiltzeak klasea jarraitzeko zailtasunak sortu dizkit': 'Bai',\n",
    "  'Diseinuaren aldetik oso baldarra eta itsusia iruditu zait': 'Ez',\n",
    "  'Horrelako proiektuetan parte hartuko nuke': 'Ez',\n",
    "  'Ez dut ezer ulertu': 'Ez',\n",
    "  'Nire lehenengo konbokatoria da': 'Ez',\n",
    "  'Aurreko urteetan baino hobeto ulertu dut': 'Ez',\n",
    "  'Nahiago dut aurreko urteetako metodologia': 'Bai',\n",
    "  'Nota': None,\n",
    "  'Iruzkina': 'GrALerako proiektu moduan interesgarria iruditu zait. Baina klasean erabiltzeko ez zait erabilgarria iruditu.'},\n",
    " {'Tresnak nire atentzioa deitu du': 'Bai',\n",
    "  'Normalean baino gehiago atenditu dut': 'Ez',\n",
    "  'Ez zait batere gustatu': 'Ez',\n",
    "  'Klase emateko modu aproposa iruditzen zait': 'Bai',\n",
    "  'Horrelako klase gehiago jasoko nituzke': 'Bai',\n",
    "  'Proiektua interesatu zait': 'Ez',\n",
    "  'Hainbat iruzkin/gomendio emango nituzke': 'Ez',\n",
    "  'Guztiz galdu naiz': 'Ez',\n",
    "  'Nahiago dut klaseak emateko modu \"tradizionala\"': 'Ez',\n",
    "  'Tresna erabiltzeak klasea jarraitzeko zailtasunak sortu dizkit': 'Ez',\n",
    "  'Diseinuaren aldetik oso baldarra eta itsusia iruditu zait': 'Ez',\n",
    "  'Horrelako proiektuetan parte hartuko nuke': 'Ez',\n",
    "  'Ez dut ezer ulertu': 'Ez',\n",
    "  'Nire lehenengo konbokatoria da': 'Ez',\n",
    "  'Nota': None,\n",
    "  'Iruzkina': 'Hasierako azalpen bezala egokiagoa iruditzen zait metodo tradizionalaren bidez sarrera egitea, eta behin kontzeptuak ulertuta, sakontzeko modu oso interesgarri eta erabilgarria iruditzen zait tresna.'},\n",
    " {'Tresnak nire atentzioa deitu du': 'Bai',\n",
    "  'Normalean baino gehiago atenditu dut': 'Bai',\n",
    "  'Ez zait batere gustatu': 'Ez',\n",
    "  'Klase emateko modu aproposa iruditzen zait': 'Bai',\n",
    "  'Horrelako klase gehiago jasoko nituzke': 'Bai',\n",
    "  'Proiektua interesatu zait': 'Bai',\n",
    "  'Hainbat iruzkin/gomendio emango nituzke': 'Ez',\n",
    "  'Guztiz galdu naiz': 'Bai',\n",
    "  'Nahiago dut klaseak emateko modu \"tradizionala\"': 'Ez',\n",
    "  'Tresna erabiltzeak klasea jarraitzeko zailtasunak sortu dizkit': 'Ez',\n",
    "  'Diseinuaren aldetik oso baldarra eta itsusia iruditu zait': 'Ez',\n",
    "  'Horrelako proiektuetan parte hartuko nuke': 'Ez',\n",
    "  'Ez dut ezer ulertu': 'Ez',\n",
    "  'Nire lehenengo konbokatoria da': 'Ez',\n",
    "  'Aurreko urteetan baino hobeto ulertu dut': '',\n",
    "  'Nahiago dut aurreko urteetako metodologia': 'Ez',\n",
    "  'Nota': 9.5,\n",
    "  'Iruzkina': ''},\n",
    " {'Tresnak nire atentzioa deitu du': 'Bai',\n",
    "  'Normalean baino gehiago atenditu dut': 'Bai',\n",
    "  'Ez zait batere gustatu': 'Ez',\n",
    "  'Klase emateko modu aproposa iruditzen zait': 'Bai',\n",
    "  'Horrelako klase gehiago jasoko nituzke': 'Bai',\n",
    "  'Proiektua interesatu zait': 'Bai',\n",
    "  'Hainbat iruzkin/gomendio emango nituzke': 'Ez',\n",
    "  'Guztiz galdu naiz': 'Ez',\n",
    "  'Nahiago dut klaseak emateko modu \"tradizionala\"': 'Ez',\n",
    "  'Tresna erabiltzeak klasea jarraitzeko zailtasunak sortu dizkit': 'Ez',\n",
    "  'Diseinuaren aldetik oso baldarra eta itsusia iruditu zait': 'Ez',\n",
    "  'Horrelako proiektuetan parte hartuko nuke': 'Ez',\n",
    "  'Ez dut ezer ulertu': 'Ez',\n",
    "  'Nire lehenengo konbokatoria da': 'Bai',\n",
    "  'Nota': 9,\n",
    "  'Iruzkina': ''},\n",
    " {'Tresnak nire atentzioa deitu du': 'Bai',\n",
    "  'Normalean baino gehiago atenditu dut': 'Bai',\n",
    "  'Ez zait batere gustatu': 'Ez',\n",
    "  'Klase emateko modu aproposa iruditzen zait': 'Bai',\n",
    "  'Horrelako klase gehiago jasoko nituzke': 'Bai',\n",
    "  'Proiektua interesatu zait': 'Ez',\n",
    "  'Hainbat iruzkin/gomendio emango nituzke': 'Ez',\n",
    "  'Guztiz galdu naiz': 'Ez',\n",
    "  'Nahiago dut klaseak emateko modu \"tradizionala\"': 'Ez',\n",
    "  'Tresna erabiltzeak klasea jarraitzeko zailtasunak sortu dizkit': 'Ez',\n",
    "  'Diseinuaren aldetik oso baldarra eta itsusia iruditu zait': 'Ez',\n",
    "  'Horrelako proiektuetan parte hartuko nuke': 'Ez',\n",
    "  'Ez dut ezer ulertu': 'Ez',\n",
    "  'Nire lehenengo konbokatoria da': 'Bai',\n",
    "  'Nota': 8,\n",
    "  'Iruzkina': ''},\n",
    " {'Tresnak nire atentzioa deitu du': 'Bai',\n",
    "  'Normalean baino gehiago atenditu dut': 'Ez',\n",
    "  'Ez zait batere gustatu': 'Ez',\n",
    "  'Klase emateko modu aproposa iruditzen zait': 'Bai',\n",
    "  'Horrelako klase gehiago jasoko nituzke': 'Bai',\n",
    "  'Proiektua interesatu zait': 'Bai',\n",
    "  'Hainbat iruzkin/gomendio emango nituzke': 'Bai',\n",
    "  'Guztiz galdu naiz': 'Ez',\n",
    "  'Nahiago dut klaseak emateko modu \"tradizionala\"': 'Biak',\n",
    "  'Tresna erabiltzeak klasea jarraitzeko zailtasunak sortu dizkit': 'Ez',\n",
    "  'Diseinuaren aldetik oso baldarra eta itsusia iruditu zait': 'Ez',\n",
    "  'Horrelako proiektuetan parte hartuko nuke': 'Bai',\n",
    "  'Ez dut ezer ulertu': 'Ez',\n",
    "  'Nire lehenengo konbokatoria da': 'Bai',\n",
    "  'Nota': None,\n",
    "  'Iruzkina': 'Proiektoretik txikiegiak ikusten ziren zenbakiak etab. Potentzial kimikoarena eta, batez ere, azkenenko fase trantsizioa era jarraituan ulertzeko oso erabilgarriak iruditu zaizkit. (Oso aproposa iruditzen zait gauzak ulertzeko baina aurreko klaseetan emandakoaren osagarri moduan, bagenekiena gehiago finkatzeko)'},\n",
    " {'Tresnak nire atentzioa deitu du': 'Bai',\n",
    "  'Normalean baino gehiago atenditu dut': 'Bai',\n",
    "  'Ez zait batere gustatu': 'Ez',\n",
    "  'Klase emateko modu aproposa iruditzen zait': 'Bai',\n",
    "  'Horrelako klase gehiago jasoko nituzke': 'Bai',\n",
    "  'Proiektua interesatu zait': 'Bai',\n",
    "  'Hainbat iruzkin/gomendio emango nituzke': 'Bai',\n",
    "  'Guztiz galdu naiz': 'Ez',\n",
    "  'Nahiago dut klaseak emateko modu \"tradizionala\"': 'Ez',\n",
    "  'Tresna erabiltzeak klasea jarraitzeko zailtasunak sortu dizkit': 'Ez',\n",
    "  'Diseinuaren aldetik oso baldarra eta itsusia iruditu zait': 'Ez',\n",
    "  'Horrelako proiektuetan parte hartuko nuke': 'Ez',\n",
    "  'Ez dut ezer ulertu': 'Ez',\n",
    "  'Nire lehenengo konbokatoria da': 'Bai',\n",
    "  'Nota': 9.8,\n",
    "  'Iruzkina': 'Prozesuak grafikoki irudikatzea oso erabilgarria da ikasteko orduan, termoko atala askotan gertatzen den moduan. Askotan zaila egin zait grafikoak ulertzea eta tresna interaktibo hau beharrezkoa ikusten dut. Ez dakit lan handia izango litzatekeen baina ondo legoke 3. dimentsioarekin jolastea. Lan ederra!!'},\n",
    " {'Tresnak nire atentzioa deitu du': 'Bai',\n",
    "  'Normalean baino gehiago atenditu dut': 'Ez',\n",
    "  'Ez zait batere gustatu': 'Ez',\n",
    "  'Klase emateko modu aproposa iruditzen zait': 'Bai',\n",
    "  'Horrelako klase gehiago jasoko nituzke': 'Bai',\n",
    "  'Proiektua interesatu zait': 'Bai',\n",
    "  'Hainbat iruzkin/gomendio emango nituzke': 'Bai',\n",
    "  'Guztiz galdu naiz': 'Ez',\n",
    "  'Nahiago dut klaseak emateko modu \"tradizionala\"': 'Ez',\n",
    "  'Tresna erabiltzeak klasea jarraitzeko zailtasunak sortu dizkit': 'Ez',\n",
    "  'Diseinuaren aldetik oso baldarra eta itsusia iruditu zait': 'Ez',\n",
    "  'Horrelako proiektuetan parte hartuko nuke': 'Bai',\n",
    "  'Ez dut ezer ulertu': 'Ez',\n",
    "  'Nire lehenengo konbokatoria da': 'Bai',\n",
    "  'Nota': 8.5,\n",
    "  'Iruzkina': 'Oso erabilgarria iruditzen zait klasean teoria ematn den bitartean programa hauek erabiltzea. Tradizionalki klaseak ematea ondo dago, baina goizeko lehenengo orduan atentzioa deitzeko (esnatzeko) programa ona.'},\n",
    " {'Tresnak nire atentzioa deitu du': 'Bai',\n",
    "  'Normalean baino gehiago atenditu dut': 'Bai',\n",
    "  'Ez zait batere gustatu': 'Ez',\n",
    "  'Klase emateko modu aproposa iruditzen zait': 'Bai',\n",
    "  'Horrelako klase gehiago jasoko nituzke': 'Bai',\n",
    "  'Proiektua interesatu zait': 'Bai',\n",
    "  'Hainbat iruzkin/gomendio emango nituzke': 'Ez',\n",
    "  'Guztiz galdu naiz': 'Ez',\n",
    "  'Nahiago dut klaseak emateko modu \"tradizionala\"': 'Ez',\n",
    "  'Tresna erabiltzeak klasea jarraitzeko zailtasunak sortu dizkit': 'Ez',\n",
    "  'Diseinuaren aldetik oso baldarra eta itsusia iruditu zait': 'Ez',\n",
    "  'Horrelako proiektuetan parte hartuko nuke': 'Bai',\n",
    "  'Ez dut ezer ulertu': 'Ez',\n",
    "  'Nire lehenengo konbokatoria da': 'Bai',\n",
    "  'Nota': 8.1,\n",
    "  'Iruzkina': 'Diseinua ondo dao. Agian letrak handixeago hobe, urrunetik zaila baita irakurtzea. Gauza asko ez ditut ulertu, baina ez da tresna digitalagatik, baizik eta termoko kontzeptuak ez ditudalako menperatzen. Gehiago disfrutatuko nuke gaiak ikasi eta ulertu ostean. Hala ere, diagrama batzuek bai lagundu didate aste honetan teoria klaseetan emandakoa barneratzen. Termo ikasten seriotan hasten naizenean, begiratu bat emango diot programa honi, benetan uste dudalako ideia oso ona dela eta lagungarria izan ahal zaidala.'},\n",
    " {'Tresnak nire atentzioa deitu du': 'Bai',\n",
    "  'Normalean baino gehiago atenditu dut': 'Ez',\n",
    "  'Ez zait batere gustatu': 'Ez',\n",
    "  'Klase emateko modu aproposa iruditzen zait': 'Bai',\n",
    "  'Horrelako klase gehiago jasoko nituzke': 'Bai',\n",
    "  'Proiektua interesatu zait': 'Bai',\n",
    "  'Hainbat iruzkin/gomendio emango nituzke': '',\n",
    "  'Guztiz galdu naiz': 'Bai',\n",
    "  'Nahiago dut klaseak emateko modu \"tradizionala\"': 'Ez',\n",
    "  'Tresna erabiltzeak klasea jarraitzeko zailtasunak sortu dizkit': 'Ez',\n",
    "  'Diseinuaren aldetik oso baldarra eta itsusia iruditu zait': 'Ez',\n",
    "  'Horrelako proiektuetan parte hartuko nuke': 'Ez',\n",
    "  'Ez dut ezer ulertu': 'Biak',\n",
    "  'Nire lehenengo konbokatoria da': 'Bai',\n",
    "  'Nota': 8,\n",
    "  'Iruzkina': 'Oso modu egokia iruditu zait gauzak azaltzeko, gainera, ez dut izatez termo asko ulertzen baina uste dut honekin hobeto ulertuko nukeela'},\n",
    " {'Tresnak nire atentzioa deitu du': 'Bai',\n",
    "  'Normalean baino gehiago atenditu dut': 'Bai',\n",
    "  'Ez zait batere gustatu': 'Ez',\n",
    "  'Klase emateko modu aproposa iruditzen zait': 'Ez',\n",
    "  'Horrelako klase gehiago jasoko nituzke': 'Bai',\n",
    "  'Proiektua interesatu zait': 'Bai',\n",
    "  'Hainbat iruzkin/gomendio emango nituzke': 'Ez',\n",
    "  'Guztiz galdu naiz': 'Bai',\n",
    "  'Nahiago dut klaseak emateko modu \"tradizionala\"': 'Ez',\n",
    "  'Tresna erabiltzeak klasea jarraitzeko zailtasunak sortu dizkit': 'Bai',\n",
    "  'Diseinuaren aldetik oso baldarra eta itsusia iruditu zait': 'Ez',\n",
    "  'Horrelako proiektuetan parte hartuko nuke': 'Bai',\n",
    "  'Ez dut ezer ulertu': 'Bai',\n",
    "  'Nire lehenengo konbokatoria da': 'Bai',\n",
    "  'Nota': None,\n",
    "  'Iruzkina': ''},\n",
    " {'Tresnak nire atentzioa deitu du': 'Bai',\n",
    "  'Normalean baino gehiago atenditu dut': 'Ez',\n",
    "  'Ez zait batere gustatu': 'Ez',\n",
    "  'Klase emateko modu aproposa iruditzen zait': 'Bai',\n",
    "  'Horrelako klase gehiago jasoko nituzke': 'Ez',\n",
    "  'Proiektua interesatu zait': 'Biak',\n",
    "  'Hainbat iruzkin/gomendio emango nituzke': 'Ez',\n",
    "  'Guztiz galdu naiz': 'Ez',\n",
    "  'Nahiago dut klaseak emateko modu \"tradizionala\"': 'Ez',\n",
    "  'Tresna erabiltzeak klasea jarraitzeko zailtasunak sortu dizkit': 'Bai',\n",
    "  'Diseinuaren aldetik oso baldarra eta itsusia iruditu zait': 'Biak',\n",
    "  'Horrelako proiektuetan parte hartuko nuke': 'Bai',\n",
    "  'Ez dut ezer ulertu': 'Biak',\n",
    "  'Nire lehenengo konbokatoria da': 'Bai',\n",
    "  'Nota': 7,\n",
    "  'Iruzkina': 'Interesgarria iruditu zait proiektua baina erabiltzeko zaila iruditzen zait eta ez dakit guztiz ondo ikusi ditudan kontzeptuak. Batez ere, nire ustez hoberen ulertu den partea amairekoa izan da. Hala ere, ez ulertzearen errua nirea izan dela uste uste dut.'},\n",
    " {'Tresnak nire atentzioa deitu du': 'Bai',\n",
    "  'Normalean baino gehiago atenditu dut': 'Biak',\n",
    "  'Ez zait batere gustatu': 'Ez',\n",
    "  'Klase emateko modu aproposa iruditzen zait': 'Bai',\n",
    "  'Horrelako klase gehiago jasoko nituzke': 'Bai',\n",
    "  'Proiektua interesatu zait': 'Biak',\n",
    "  'Hainbat iruzkin/gomendio emango nituzke': 'Ez',\n",
    "  'Guztiz galdu naiz': 'Ez',\n",
    "  'Nahiago dut klaseak emateko modu \"tradizionala\"': 'Ez',\n",
    "  'Tresna erabiltzeak klasea jarraitzeko zailtasunak sortu dizkit': 'Ez',\n",
    "  'Diseinuaren aldetik oso baldarra eta itsusia iruditu zait': 'Ez',\n",
    "  'Horrelako proiektuetan parte hartuko nuke': 'Biak',\n",
    "  'Ez dut ezer ulertu': 'Ez',\n",
    "  'Nire lehenengo konbokatoria da': 'Bai',\n",
    "  'Nota': 7.5,\n",
    "  'Iruzkina': 'Nahiko interesantea iruditu zait eta ikasgaiaren atal hau hobeto ulertzeko baliagarria da. Beharbada termodinamikarekiko interes handiagoa duen norbaiti gehiago gustatuko litzaioke.'}]"
   ]
  },
  {
   "cell_type": "code",
   "execution_count": 30,
   "metadata": {
    "init_cell": true,
    "slideshow": {
     "slide_type": "skip"
    }
   },
   "outputs": [],
   "source": [
    "#gald_1 = 'Tresnak nire atentzioa deitu du'\n",
    "#gald_2 = 'Nahiago dut klaseak emateko modu \"tradizionala\"'\n",
    "\n",
    "#galderak = [gald_1, gald_2]\n",
    "\n",
    "galderak = galdera_guztiak\n",
    "\n",
    "galde_hist_totala = []\n",
    "gald_hist_eskalatuta_totala = []\n",
    "kop_totala = []\n",
    "\n",
    "for galdera in galderak:\n",
    "\n",
    "    gald_hist, kop, gald_hist_eskalatuta = galdera_histograma(galdera, inkestak_emaitzak)\n",
    "    \n",
    "    galde_hist_totala.append(gald_hist)\n",
    "    gald_hist_eskalatuta_totala.append(gald_hist_eskalatuta)\n",
    "    kop_totala.append(kop)\n",
    "        \n",
    "inkestak_block = widgets.VBox(\n",
    "    [],\n",
    "    layout=widgets.Layout(width='100%')\n",
    ")\n",
    "\n",
    "grafikak = widgets.HBox(\n",
    "    [],\n",
    "    layout=widgets.Layout(\n",
    "        width='100%',\n",
    "        align_self = 'center',\n",
    "        align_items = 'center'\n",
    "    )\n",
    ")\n",
    "\n",
    "sc_ord = bqs.OrdinalScale()\n",
    "sc_y = bqs.LinearScale()\n",
    "sc_y_2 = bqs.LinearScale()\n",
    "\n",
    "bar_chart = bqm.Bars(\n",
    "    x=['Bai', 'Ez', 'Biak'],\n",
    "    y=[],\n",
    "    scales={'x': sc_ord, 'y': sc_y},\n",
    "    labels=['Bai', 'Ez', 'Biak'],\n",
    "    colors = ['#828282','#ffdd87','#bdbdbd'],\n",
    "    #opacities = [0.5, 0.5, 0.75]\n",
    ")\n",
    "\n",
    "bar_chart_eskalatuta = bqm.Bars(\n",
    "    x=['Bai', 'Ez', 'Biak'],\n",
    "    y=[],\n",
    "    scales={'x': sc_ord, 'y': sc_y_2},\n",
    "    labels=['Bai', 'Ez', 'Biak'],\n",
    ")\n",
    "\n",
    "ord_ax = Axis(\n",
    "    label='Erantzunak',\n",
    "    scale=sc_ord,\n",
    "    grid_lines='none'\n",
    ")\n",
    "\n",
    "y_ax = Axis(\n",
    "    label='Kopurua ',\n",
    "    scale=sc_y,\n",
    "    orientation='vertical',\n",
    "    grid_lines='solid'\n",
    ")\n",
    "\n",
    "y_ax_2 = Axis(\n",
    "    label='Kopurua (%)',\n",
    "    scale=sc_y_2,\n",
    "    orientation='vertical',\n",
    "    grid_lines='solid'\n",
    ")\n",
    "\n",
    "figura_emaitzak = bq.Figure(\n",
    "    title= '',\n",
    "    axes=[ord_ax, y_ax],\n",
    "    marks=[bar_chart],\n",
    "    animation_duration = 500,\n",
    "    fig_margin=dict(top=10, bottom=60, left=80, right=30),\n",
    ")\n",
    "\n",
    "figura_eskalatuta = bq.Figure(\n",
    "    title= '',\n",
    "    axes=[ord_ax, y_ax_2],\n",
    "    marks=[bar_chart_eskalatuta],\n",
    "    animation_duration = 500,\n",
    "    fig_margin=dict(top=10, bottom=60, left=80, right=30),\n",
    ")\n",
    "\n",
    "\n",
    "grafikak.children = [\n",
    "    figura_emaitzak,\n",
    "    figura_eskalatuta\n",
    "]"
   ]
  },
  {
   "cell_type": "code",
   "execution_count": 31,
   "metadata": {
    "init_cell": true,
    "slideshow": {
     "slide_type": "skip"
    }
   },
   "outputs": [],
   "source": [
    "def aldatu_galdera(change):\n",
    "    \n",
    "    index = change.owner.index\n",
    "    \n",
    "    galdera = galderak[index]\n",
    "    \n",
    "    galdera_html.value = \"<h2>\"+galdera+\"</h2>\"\n",
    "    \n",
    "    bai = galde_hist_totala[index].get('Bai')\n",
    "    ez = galde_hist_totala[index].get('Ez')\n",
    "    biak = galde_hist_totala[index].get('Biak')\n",
    "    \n",
    "    bar_chart.y = [\n",
    "        bai,\n",
    "        ez,\n",
    "        biak\n",
    "    ]\n",
    "    \n",
    "    kop = kop_totala[index]\n",
    "    \n",
    "    bar_chart_eskalatuta.y = [\n",
    "        bai/33*100,\n",
    "        ez/33*100,\n",
    "        biak/33*100\n",
    "    ]"
   ]
  },
  {
   "cell_type": "code",
   "execution_count": 32,
   "metadata": {
    "init_cell": true,
    "slideshow": {
     "slide_type": "skip"
    }
   },
   "outputs": [],
   "source": [
    "galdera_html = widgets.HTML(\n",
    "    value = \"<h4></h4>\",\n",
    "    layout = widgets.Layout(\n",
    "        align_self = 'center'\n",
    "    )\n",
    ")\n",
    "\n",
    "galdera_aldatu_dropdown = widgets.Dropdown(\n",
    "    options=galdera_guztiak,\n",
    "    value=galderak[1],\n",
    "    description='Galdera:',\n",
    "    disabled=False,\n",
    "    layout = widgets.Layout(\n",
    "        width = '70%',\n",
    "        align_self = 'center'\n",
    "    )\n",
    ")\n",
    "\n",
    "galdera_aldatu_dropdown.observe(aldatu_galdera, 'value')\n",
    "\n",
    "inkestak_block.children = [\n",
    "    galdera_html,\n",
    "    grafikak,\n",
    "    galdera_aldatu_dropdown\n",
    "]\n",
    "\n",
    "galdera_aldatu_dropdown.value = galderak[0]"
   ]
  },
  {
   "cell_type": "markdown",
   "metadata": {
    "slideshow": {
     "slide_type": "slide"
    }
   },
   "source": [
    "<h2>Helburu nagusiak</h2>\n",
    "<hr style=\"border: 3px solid #ffbe19; border-radius: 3px; opacity: 0.5;\">"
   ]
  },
  {
   "cell_type": "markdown",
   "metadata": {
    "slideshow": {
     "slide_type": "skip"
    }
   },
   "source": [
    "<h2>Helburu nagusiak</h2>\n",
    "<hr style=\"border: 3px solid #ffbe19; border-radius: 3px; opacity: 0.5;\">\n",
    "\n",
    "<ul>\n",
    "    <li>\n",
    "    <h4 style=\"line-height: 2.0\">Elkarrekintzan oinarritutako irakaskuntza-proiektua garatzea, ikasleen parte-hartzea eta autonomia bultzatuko dituena.</h4>\n",
    "    </li>\n",
    "    <li>\n",
    "    <h4 style=\"line-height: 2.0\">Irakaskuntza-materiala sortzeko tresna eta lan-fluxuak aztertzea.</h4>\n",
    "    </li>\n",
    "</ul>"
   ]
  },
  {
   "cell_type": "markdown",
   "metadata": {
    "slideshow": {
     "slide_type": "skip"
    }
   },
   "source": [
    "<center>\n",
    "<img src=\"static/images/histograma.png\"\n",
    "     alt=\"histograma\"\n",
    "     style=\"border: 3px solid rgba(255, 190, 25, .5); border-radius: 3px;\" />\n",
    "<h4>1. figura: Bi taldeen noten histograma. REF</h4>\n",
    "</center>"
   ]
  },
  {
   "cell_type": "markdown",
   "metadata": {
    "slideshow": {
     "slide_type": "slide"
    }
   },
   "source": [
    "<h2>Metodologia</h2>\n",
    "<hr style=\"border: 3px solid #ffbe19; border-radius: 3px; opacity: 0.5;\">\n"
   ]
  },
  {
   "cell_type": "markdown",
   "metadata": {
    "slideshow": {
     "slide_type": "skip"
    }
   },
   "source": [
    "<div style=\"width: 50%; border-right: 3px solid rgba(255, 190, 25, .5); padding: 0 0 0 0; float: left\">\n",
    "<h4>1. Materialaren inguruko gogoeta</h4>\n",
    "<h4>2. Tresnen inguruko azterketa</h4>\n",
    "<br>\n",
    "</div>\n",
    "<div style=\"position: absolute; top: 50%; transform: translateY(-50%); width: 50%; margin-left:60%;\">\n",
    "<h4>3. MinervaLab garatu</h4>\n",
    "    <br>\n",
    "</div>"
   ]
  },
  {
   "cell_type": "markdown",
   "metadata": {
    "slideshow": {
     "slide_type": "fragment"
    }
   },
   "source": [
    "<div style=\"text-align:center\">\n",
    "    <h4>1. Materialaren inguruko gogoeta</h4>\n",
    "</div>"
   ]
  },
  {
   "cell_type": "markdown",
   "metadata": {
    "slideshow": {
     "slide_type": "fragment"
    }
   },
   "source": [
    "<div style=\"text-align:center\">\n",
    "    <h4>2. Tresnen inguruko azterketa</h4>\n",
    "</div>"
   ]
  },
  {
   "cell_type": "markdown",
   "metadata": {
    "slideshow": {
     "slide_type": "fragment"
    }
   },
   "source": [
    "<div style=\"text-align:center\">\n",
    "    <h4>3. MinervaLab garatu</h4>\n",
    "</div>"
   ]
  },
  {
   "cell_type": "markdown",
   "metadata": {
    "slideshow": {
     "slide_type": "slide"
    }
   },
   "source": [
    "<h2>Edukia: lehenengo hausnarketa</h2>\n",
    "<hr style=\"border: 3px solid #ffbe19; border-radius: 3px; opacity: 0.5;\">"
   ]
  },
  {
   "cell_type": "markdown",
   "metadata": {
    "slideshow": {
     "slide_type": "fragment"
    }
   },
   "source": [
    "<div style=\"text-align: center\" id=\"postfragment\">\n",
    "    <h4>Iraunkorra</h4>\n",
    "</div>"
   ]
  },
  {
   "cell_type": "markdown",
   "metadata": {
    "slideshow": {
     "slide_type": "fragment"
    }
   },
   "source": [
    "<div style=\"text-align: center\">\n",
    "    <h4 id=\"postfragment\">Errepikagarria</h4>\n",
    "</div>"
   ]
  },
  {
   "cell_type": "markdown",
   "metadata": {
    "slideshow": {
     "slide_type": "fragment"
    }
   },
   "source": [
    "<div style=\"text-align: center\">\n",
    "    <h4 id=\"postfragment\">Hedapen-eremuari eta hartzaileari egokitua</h4>\n",
    "</div>"
   ]
  },
  {
   "cell_type": "markdown",
   "metadata": {
    "slideshow": {
     "slide_type": "fragment"
    }
   },
   "source": [
    "<div style=\"text-align: center\">\n",
    "    <h4 id=\"postfragment\">Identifikagarria</h4>\n",
    "</div>"
   ]
  },
  {
   "cell_type": "markdown",
   "metadata": {
    "slideshow": {
     "slide_type": "subslide"
    }
   },
   "source": [
    "<h2>Edukia: bigarren hausnarketa</h2>\n",
    "<hr style=\"border: 3px solid #ffbe19; border-radius: 3px; opacity: 0.5;\">"
   ]
  },
  {
   "cell_type": "markdown",
   "metadata": {
    "cell_style": "split"
   },
   "source": [
    "<div style=\"text-align: right; border-right: 3px solid rgba(255, 190, 25, .5); padding-right: 30px;\">\n",
    "    <h4 style=\"color:rgba(0,0,0,0.5)\">Iraunkorra</h4>\n",
    "    <h4 style=\"color:rgba(0,0,0,0.5)\">Errepikagarria</h4>\n",
    "    <h4 style=\"line-height:1.5;color:rgba(0,0,0,0.5)\">Hedapen-eremuari eta hartzaileari egokitua</h4>\n",
    "    <h4 style=\"color:rgba(0,0,0,0.5)\">Identifikagarria</h4>\n",
    "</div>"
   ]
  },
  {
   "cell_type": "markdown",
   "metadata": {
    "cell_style": "split"
   },
   "source": [
    "<div style=\"text-align: left; padding-right: 30px;\">\n",
    "    <h4>Irakasle eta ikasleentzat editagarria</h4>\n",
    "    <h4>Egindako aldaketak eskuragarri</h4>\n",
    "    <h4 style=\"line-height:1.5\">Eskola eman eta etxean erabiltzeko modukoak</h4>\n",
    "    <h4 style=\"line-height:1.5\">Erabilitako bertsioa aipatu</h4>\n",
    "</div>"
   ]
  },
  {
   "cell_type": "code",
   "execution_count": 33,
   "metadata": {
    "init_cell": true,
    "slideshow": {
     "slide_type": "skip"
    }
   },
   "outputs": [],
   "source": [
    "def integrazioa_irudia_aldatu(change):\n",
    "    \n",
    "    if change.owner.value:\n",
    "\n",
    "        for i in range(len(buttons)):\n",
    "\n",
    "            if buttons[i] is change.owner:\n",
    "                \n",
    "                    integrazioa_image.value = '<img src=\"' + integrazioa_irudiak[i] + '\">'\n",
    "            else:\n",
    "                \n",
    "                buttons[i].value = False\n",
    "                \n",
    "    else:\n",
    "        \n",
    "        if True not in [button.value for button in buttons]:\n",
    "            \n",
    "            integrazioa_image.value = '<img src=\"static/images/integrazioa.png\">'"
   ]
  },
  {
   "cell_type": "code",
   "execution_count": 34,
   "metadata": {
    "init_cell": true,
    "slideshow": {
     "slide_type": "skip"
    }
   },
   "outputs": [],
   "source": [
    "integrazioa_box = widgets.HBox(\n",
    "    [],\n",
    "    layout = widgets.Layout(\n",
    "        align_items = 'center'\n",
    "    )\n",
    ")\n",
    "\n",
    "integrazioa_image = widgets.HTML(\n",
    "    value = '<img src=\"static/images/integrazioa.png\">',\n",
    "    layout = widgets.Layout(\n",
    "        width='65%'\n",
    "    )\n",
    ")\n",
    "\n",
    "integrazioa_buttons = widgets.VBox(\n",
    "    layout = widgets.Layout(\n",
    "        width='35%',\n",
    "        align_self = 'center',\n",
    "        align_items = 'center'\n",
    "    )\n",
    ")\n",
    "\n",
    "ezaugarriak = [\n",
    "    'Iraunkortasuna',\n",
    "    'Errepikagarritasuna',\n",
    "    'Egokitasuna',\n",
    "    'Identifikagarritasuna'\n",
    "]\n",
    "\n",
    "buttons = []\n",
    "\n",
    "for ezaug in ezaugarriak:\n",
    "    \n",
    "    b = widgets.ToggleButton(\n",
    "            value=True,\n",
    "            description=ezaug,\n",
    "            disabled=False,\n",
    "            button_style='',\n",
    "            tooltip='',\n",
    "            icon='',\n",
    "            layout = widgets.Layout(\n",
    "                width = '200px',\n",
    "                margin = '10px 0 10px 0',\n",
    "            )\n",
    "        )\n",
    "    \n",
    "    b.observe(integrazioa_irudia_aldatu, 'value')\n",
    "    \n",
    "    buttons.append(b)\n",
    "\n",
    "for button in buttons:\n",
    "    button.value = False\n",
    "    \n",
    "integrazioa_irudiak = [\n",
    "    './static/images/iraunkortasuna.png',\n",
    "    './static/images/errepikakortasuna.png',\n",
    "    './static/images/egokitasuna.png',\n",
    "    './static/images/identifikagarritasuna.png',\n",
    "]    \n",
    "    \n",
    "integrazioa_buttons.children = buttons\n",
    "\n",
    "integrazioa_box.children = [\n",
    "    integrazioa_image,\n",
    "    integrazioa_buttons\n",
    "]"
   ]
  },
  {
   "cell_type": "markdown",
   "metadata": {
    "slideshow": {
     "slide_type": "subslide"
    }
   },
   "source": [
    "<h2>Edukia: erabilitako tresnak</h2>\n",
    "<hr style=\"border: 3px solid #ffbe19; border-radius: 3px; opacity: 0.5;\">"
   ]
  },
  {
   "cell_type": "code",
   "execution_count": 35,
   "metadata": {
    "cell_style": "center",
    "hide_input": true,
    "init_cell": true,
    "scrolled": false,
    "slideshow": {
     "slide_type": "subslide"
    }
   },
   "outputs": [
    {
     "data": {
      "application/vnd.jupyter.widget-view+json": {
       "model_id": "8c66a68e900047eeb8e14e18d49aa07b",
       "version_major": 2,
       "version_minor": 0
      },
      "text/plain": [
       "HBox(children=(HTML(value='<img src=\"static/images/integrazioa.png\">', layout=Layout(width='65%')), VBox(child…"
      ]
     },
     "metadata": {},
     "output_type": "display_data"
    }
   ],
   "source": [
    "integrazioa_box"
   ]
  },
  {
   "cell_type": "markdown",
   "metadata": {
    "slideshow": {
     "slide_type": "subslide"
    }
   },
   "source": [
    "<center>\n",
    "    <img src=\"static/images/jupyter.png\">\n",
    "</center>"
   ]
  },
  {
   "cell_type": "markdown",
   "metadata": {
    "slideshow": {
     "slide_type": "subslide"
    }
   },
   "source": [
    "# Jupyter Notebook\n",
    "--------------------\n",
    "\n",
    "### Markdown lengoaian dago idatzia testu hau. LaTeX-eko ekuazio bat ikus daiteke jarraian:\n",
    "\n",
    "\\begin{equation}\n",
    "pV = nRT\n",
    "\\end{equation}"
   ]
  },
  {
   "cell_type": "code",
   "execution_count": null,
   "metadata": {
    "slideshow": {
     "slide_type": "subslide"
    }
   },
   "outputs": [],
   "source": [
    "YouTubeVideo(id=\"S7uUEwICDcc\", width='1200px', height='600px')"
   ]
  },
  {
   "cell_type": "code",
   "execution_count": 37,
   "metadata": {
    "init_cell": true,
    "slideshow": {
     "slide_type": "subslide"
    }
   },
   "outputs": [
    {
     "data": {
      "application/vnd.jupyter.widget-view+json": {
       "model_id": "bb9d8f4e050041e2bbc2ac11dc6bc1cd",
       "version_major": 2,
       "version_minor": 0
      },
      "text/plain": [
       "interactive(children=(IntSlider(value=5, description='w', max=10), FloatSlider(value=0.0, description='k', max…"
      ]
     },
     "metadata": {},
     "output_type": "display_data"
    }
   ],
   "source": [
    "def f(w, k):\n",
    "    plt.figure(2, dpi=150)\n",
    "    t = np.linspace(0, 10, num=500)\n",
    "    plt.plot(t, np.sin(w*t + k))\n",
    "    plt.ylim(-2, 2)\n",
    "    plt.show()\n",
    "\n",
    "interactive_plot = widgets.interactive(f, w=(0, 10, 1), k=(-1, 1, 0.1))\n",
    "interactive_plot.layout.align_items = 'center'\n",
    "interactive_plot"
   ]
  },
  {
   "cell_type": "markdown",
   "metadata": {
    "slideshow": {
     "slide_type": "skip"
    }
   },
   "source": [
    "<h2>Edukia</h2>\n",
    "<hr style=\"border: 3px solid #ffbe19; border-radius: 3px; opacity: 0.5;\">"
   ]
  },
  {
   "cell_type": "markdown",
   "metadata": {
    "slideshow": {
     "slide_type": "subslide"
    }
   },
   "source": [
    "![minervalab-logo](static/images/logo.png)"
   ]
  },
  {
   "cell_type": "markdown",
   "metadata": {
    "slideshow": {
     "slide_type": "subslide"
    }
   },
   "source": [
    "<h3>Aplikazioak</h3>\n",
    "<hr style=\"border: 3px solid #ffbe19; border-radius: 3px; opacity: 0.5;\">"
   ]
  },
  {
   "cell_type": "raw",
   "metadata": {
    "slideshow": {
     "slide_type": "skip"
    }
   },
   "source": [
    "Kodea                            & Landutako kontzeptua & Fitxategia \\\\ \\hline\n",
    "\\textbf{111-000} & Jariakin baten $p(v, T)$ lerro isotermoen bi dimentsioko azterketa (aldagai laburtutan). &   {\\href{https://minervalab.readthedocs.io/en/latest/apps/van_der_waals/p_v_2D.html}{p{\\_}v{\\_}2D.ipynb}}         \\\\\n",
    "\\textbf{112-000}                                 & Fase-trantsizioen ondoriozko bolumen molarraren aldakuntza. & {\\href{https://minervalab.readthedocs.io/en/latest/apps/van_der_waals/phase_transition_volume.html}{phase{\\_}transition{\\_}volume.ipynb}}           \\\\\n",
    "\\textbf{113-000}                                &                     Zenbait elementu eta konposatuen puntu kritikoen kokapena. & \\href{https://minervalab.readthedocs.io/en/latest/apps/van_der_waals/critical_points.html}{critical{\\_}points.ipynb}           \\\\\n",
    "114-000                                 &                     Van der Waals-en parametroek lerro isotermoen itxuran duten eragina eta horren esangura fisikoa. &  \\href{https://minervalab.readthedocs.io/en/latest/apps/van_der_waals/effect_of_a_and_b.html}{effect{\\_}of{\\_}a{\\_}and{\\_}b.ipynb}          \\\\\n",
    "115-000                                 & Zenbait elementu eta konposatuen lerro isotermoen itxura.  &  \\href{https://minervalab.readthedocs.io/en/latest/apps/van_der_waals/compare_elements.html}{compare{\\_}elements.ipynb}          \\\\\n",
    "116-000                                 &                     Jariakin baten $p(v, T)$ lerro isotermooen hiru dimentsioko azterketa (aldagai laburtutan). &   \\href{https://minervalab.readthedocs.io/en/latest/apps/van_der_waals/p_v_T_3D.html}{p{\\_}v{\\_}T{\\_}3D.ipynb}         \\\\\n",
    "\\textbf{117-000}                                 &  Lerro isotermoetan oinarritutako potentzial kimikoaren eraikuntza. &   \\href{https://minervalab.readthedocs.io/en/latest/apps/van_der_waals/chemical_potential.html}{chemical{\\_}potential.ipynb}         \\\\\n",
    "\\textbf{118-000}                                &  Van der Waals-en egoera-ekuazio mekanikoaren analisia. &   \\href{https://minervalab.readthedocs.io/en/latest/apps/van_der_waals/mathematical_analysis.html}{mathematical{\\_}analysis.ipynb}         \\\\\n",
    "119-000                                 &                     Van der Waals-en parametroek egoera-ekuazio mekanikoan duten eragina. &    \\href{https://minervalab.readthedocs.io/en/latest/apps/van_der_waals/parameters_analysis.html}{parameters{\\_}analysis.ipynb}        \\\\\n",
    "11A-000                                 & Lerro isotermoetan oinarritutako egonkortasunaren azterketa. &    \\href{https://minervalab.readthedocs.io/en/latest/apps/van_der_waals/stability.html}{stability.ipynb}        \\\\\n",
    "11B-000                                 & Jariakin baten $p(T)$ diagrama eta Gibbs-en potentzialaren itxura.  &    \\href{https://minervalab.readthedocs.io/en/latest/apps/van_der_waals/p_T_2D.html}{p{\\_}T{\\_}2D.ipynb}        \\\\\n",
    "11C-000                                 &                     Van der Waals-en parametroek lerro isotermoen itxuran duten eragina eta horren esangura fisikoa (aldagai laburtutan). &    \\href{https://minervalab.readthedocs.io/en/latest/apps/van_der_waals/effect_of_a_and_b_reduced.html}{effect{\\_}of{\\_}a{\\_}and{\\_}b{\\_}reduced.ipynb}        \\\\\n",
    "\\textbf{11D-000}                                 & Fase-trantsizioen ondoriozko entropia molarraren aldakuntza. &    \\href{https://minervalab.readthedocs.io/en/latest/apps/van_der_waals/entropy.html}{entropy.ipynb}       "
   ]
  },
  {
   "cell_type": "code",
   "execution_count": 38,
   "metadata": {
    "slideshow": {
     "slide_type": "skip"
    }
   },
   "outputs": [],
   "source": [
    "taula = pd.DataFrame()\n",
    "\n",
    "pd.set_option('display.latex.repr', True)\n",
    "pd.set_option('display.max_colwidth', 200)\n",
    "pd.set_option('colheader_justify','left')\n",
    "\n",
    "taula['Kodea'] = [\n",
    "    '111-000',\n",
    "    '112-000',\n",
    "    '113-000',\n",
    "    '114-000',\n",
    "    '115-000',\n",
    "    '116-000',\n",
    "    '117-000',\n",
    "    '118-000',\n",
    "    '119-000',\n",
    "    '11A-000',\n",
    "    '11B-000',\n",
    "    '11C-000',\n",
    "    '11D-000',\n",
    "]\n",
    "\n",
    "taula['Landutako kontzeptua'] = [\n",
    "    'Jariakin baten $p(v, T)$ lerro isotermoen bi dimentsioko azterketa (aldagai laburtutan).',\n",
    "    'Fase-trantsizioen ondoriozko bolumen molarraren aldakuntza.',\n",
    "    'Zenbait elementu eta konposatuen puntu kritikoen kokapena.',\n",
    "    'Van der Waals-en parametroek lerro isotermoen itxuran duten eragina eta horren esangura fisikoa.',\n",
    "    'Zenbait elementu eta konposatuen lerro isotermoen itxura.',\n",
    "    'Jariakin baten $p(v, T)$ lerro isotermooen hiru dimentsioko azterketa (aldagai laburtutan).',\n",
    "    'Lerro isotermoetan oinarritutako potentzial kimikoaren eraikuntza.',\n",
    "    'Van der Waals-en egoera-ekuazio mekanikoaren analisia.',\n",
    "    'Van der Waals-en parametroek egoera-ekuazio mekanikoan duten eragina.',\n",
    "    'Lerro isotermoetan oinarritutako egonkortasunaren azterketa.',\n",
    "    'Jariakin baten $p(T)$ diagrama eta Gibbs-en potentzialaren itxura.',\n",
    "    'Van der Waals-en parametroek lerro isotermoen itxuran duten eragina eta horren esangura fisikoa (aldagai laburtutan).',\n",
    "    'Fase-trantsizioen ondoriozko entropia molarraren aldakuntza.'    \n",
    "]\n",
    "\n",
    "taula['Fitxategia'] = [\n",
    "    'p_v_2D.ipynb',\n",
    "    'phase_transition_volume.ipynb',\n",
    "    'critical_points.ipynb',\n",
    "    'effect_of_a_and_b.ipynb',\n",
    "    'compare_elements.ipynb',\n",
    "    'p_v_T_3D.ipynb',\n",
    "    'chemical_potential.ipynb',\n",
    "    'mathematical_analysis.ipynb',\n",
    "    'parameters_analysis.ipynb',\n",
    "    'stability.ipynb',\n",
    "    'p_T_2D.ipynb',\n",
    "    'effect_of_a_and_b_reduced.ipynb',\n",
    "    'entropy.ipynb'   \n",
    "]\n",
    "\n",
    "taula = taula.style.set_properties(**{'font-size': '15pt', 'font-family': 'Montserrat'})"
   ]
  },
  {
   "cell_type": "code",
   "execution_count": 39,
   "metadata": {
    "hide_input": true,
    "slideshow": {
     "slide_type": "-"
    }
   },
   "outputs": [
    {
     "data": {
      "text/html": [
       "<style  type=\"text/css\" >\n",
       "    #T_37462dee_c446_11ea_ba0c_10e7c6f3c284row0_col0 {\n",
       "            font-size:  15pt;\n",
       "            font-family:  Montserrat;\n",
       "        }    #T_37462dee_c446_11ea_ba0c_10e7c6f3c284row0_col1 {\n",
       "            font-size:  15pt;\n",
       "            font-family:  Montserrat;\n",
       "        }    #T_37462dee_c446_11ea_ba0c_10e7c6f3c284row0_col2 {\n",
       "            font-size:  15pt;\n",
       "            font-family:  Montserrat;\n",
       "        }    #T_37462dee_c446_11ea_ba0c_10e7c6f3c284row1_col0 {\n",
       "            font-size:  15pt;\n",
       "            font-family:  Montserrat;\n",
       "        }    #T_37462dee_c446_11ea_ba0c_10e7c6f3c284row1_col1 {\n",
       "            font-size:  15pt;\n",
       "            font-family:  Montserrat;\n",
       "        }    #T_37462dee_c446_11ea_ba0c_10e7c6f3c284row1_col2 {\n",
       "            font-size:  15pt;\n",
       "            font-family:  Montserrat;\n",
       "        }    #T_37462dee_c446_11ea_ba0c_10e7c6f3c284row2_col0 {\n",
       "            font-size:  15pt;\n",
       "            font-family:  Montserrat;\n",
       "        }    #T_37462dee_c446_11ea_ba0c_10e7c6f3c284row2_col1 {\n",
       "            font-size:  15pt;\n",
       "            font-family:  Montserrat;\n",
       "        }    #T_37462dee_c446_11ea_ba0c_10e7c6f3c284row2_col2 {\n",
       "            font-size:  15pt;\n",
       "            font-family:  Montserrat;\n",
       "        }    #T_37462dee_c446_11ea_ba0c_10e7c6f3c284row3_col0 {\n",
       "            font-size:  15pt;\n",
       "            font-family:  Montserrat;\n",
       "        }    #T_37462dee_c446_11ea_ba0c_10e7c6f3c284row3_col1 {\n",
       "            font-size:  15pt;\n",
       "            font-family:  Montserrat;\n",
       "        }    #T_37462dee_c446_11ea_ba0c_10e7c6f3c284row3_col2 {\n",
       "            font-size:  15pt;\n",
       "            font-family:  Montserrat;\n",
       "        }    #T_37462dee_c446_11ea_ba0c_10e7c6f3c284row4_col0 {\n",
       "            font-size:  15pt;\n",
       "            font-family:  Montserrat;\n",
       "        }    #T_37462dee_c446_11ea_ba0c_10e7c6f3c284row4_col1 {\n",
       "            font-size:  15pt;\n",
       "            font-family:  Montserrat;\n",
       "        }    #T_37462dee_c446_11ea_ba0c_10e7c6f3c284row4_col2 {\n",
       "            font-size:  15pt;\n",
       "            font-family:  Montserrat;\n",
       "        }    #T_37462dee_c446_11ea_ba0c_10e7c6f3c284row5_col0 {\n",
       "            font-size:  15pt;\n",
       "            font-family:  Montserrat;\n",
       "        }    #T_37462dee_c446_11ea_ba0c_10e7c6f3c284row5_col1 {\n",
       "            font-size:  15pt;\n",
       "            font-family:  Montserrat;\n",
       "        }    #T_37462dee_c446_11ea_ba0c_10e7c6f3c284row5_col2 {\n",
       "            font-size:  15pt;\n",
       "            font-family:  Montserrat;\n",
       "        }    #T_37462dee_c446_11ea_ba0c_10e7c6f3c284row6_col0 {\n",
       "            font-size:  15pt;\n",
       "            font-family:  Montserrat;\n",
       "        }    #T_37462dee_c446_11ea_ba0c_10e7c6f3c284row6_col1 {\n",
       "            font-size:  15pt;\n",
       "            font-family:  Montserrat;\n",
       "        }    #T_37462dee_c446_11ea_ba0c_10e7c6f3c284row6_col2 {\n",
       "            font-size:  15pt;\n",
       "            font-family:  Montserrat;\n",
       "        }    #T_37462dee_c446_11ea_ba0c_10e7c6f3c284row7_col0 {\n",
       "            font-size:  15pt;\n",
       "            font-family:  Montserrat;\n",
       "        }    #T_37462dee_c446_11ea_ba0c_10e7c6f3c284row7_col1 {\n",
       "            font-size:  15pt;\n",
       "            font-family:  Montserrat;\n",
       "        }    #T_37462dee_c446_11ea_ba0c_10e7c6f3c284row7_col2 {\n",
       "            font-size:  15pt;\n",
       "            font-family:  Montserrat;\n",
       "        }    #T_37462dee_c446_11ea_ba0c_10e7c6f3c284row8_col0 {\n",
       "            font-size:  15pt;\n",
       "            font-family:  Montserrat;\n",
       "        }    #T_37462dee_c446_11ea_ba0c_10e7c6f3c284row8_col1 {\n",
       "            font-size:  15pt;\n",
       "            font-family:  Montserrat;\n",
       "        }    #T_37462dee_c446_11ea_ba0c_10e7c6f3c284row8_col2 {\n",
       "            font-size:  15pt;\n",
       "            font-family:  Montserrat;\n",
       "        }    #T_37462dee_c446_11ea_ba0c_10e7c6f3c284row9_col0 {\n",
       "            font-size:  15pt;\n",
       "            font-family:  Montserrat;\n",
       "        }    #T_37462dee_c446_11ea_ba0c_10e7c6f3c284row9_col1 {\n",
       "            font-size:  15pt;\n",
       "            font-family:  Montserrat;\n",
       "        }    #T_37462dee_c446_11ea_ba0c_10e7c6f3c284row9_col2 {\n",
       "            font-size:  15pt;\n",
       "            font-family:  Montserrat;\n",
       "        }    #T_37462dee_c446_11ea_ba0c_10e7c6f3c284row10_col0 {\n",
       "            font-size:  15pt;\n",
       "            font-family:  Montserrat;\n",
       "        }    #T_37462dee_c446_11ea_ba0c_10e7c6f3c284row10_col1 {\n",
       "            font-size:  15pt;\n",
       "            font-family:  Montserrat;\n",
       "        }    #T_37462dee_c446_11ea_ba0c_10e7c6f3c284row10_col2 {\n",
       "            font-size:  15pt;\n",
       "            font-family:  Montserrat;\n",
       "        }    #T_37462dee_c446_11ea_ba0c_10e7c6f3c284row11_col0 {\n",
       "            font-size:  15pt;\n",
       "            font-family:  Montserrat;\n",
       "        }    #T_37462dee_c446_11ea_ba0c_10e7c6f3c284row11_col1 {\n",
       "            font-size:  15pt;\n",
       "            font-family:  Montserrat;\n",
       "        }    #T_37462dee_c446_11ea_ba0c_10e7c6f3c284row11_col2 {\n",
       "            font-size:  15pt;\n",
       "            font-family:  Montserrat;\n",
       "        }    #T_37462dee_c446_11ea_ba0c_10e7c6f3c284row12_col0 {\n",
       "            font-size:  15pt;\n",
       "            font-family:  Montserrat;\n",
       "        }    #T_37462dee_c446_11ea_ba0c_10e7c6f3c284row12_col1 {\n",
       "            font-size:  15pt;\n",
       "            font-family:  Montserrat;\n",
       "        }    #T_37462dee_c446_11ea_ba0c_10e7c6f3c284row12_col2 {\n",
       "            font-size:  15pt;\n",
       "            font-family:  Montserrat;\n",
       "        }</style><table id=\"T_37462dee_c446_11ea_ba0c_10e7c6f3c284\" ><thead>    <tr>        <th class=\"blank level0\" ></th>        <th class=\"col_heading level0 col0\" >Kodea</th>        <th class=\"col_heading level0 col1\" >Landutako kontzeptua</th>        <th class=\"col_heading level0 col2\" >Fitxategia</th>    </tr></thead><tbody>\n",
       "                <tr>\n",
       "                        <th id=\"T_37462dee_c446_11ea_ba0c_10e7c6f3c284level0_row0\" class=\"row_heading level0 row0\" >0</th>\n",
       "                        <td id=\"T_37462dee_c446_11ea_ba0c_10e7c6f3c284row0_col0\" class=\"data row0 col0\" >111-000</td>\n",
       "                        <td id=\"T_37462dee_c446_11ea_ba0c_10e7c6f3c284row0_col1\" class=\"data row0 col1\" >Jariakin baten $p(v, T)$ lerro isotermoen bi dimentsioko azterketa (aldagai laburtutan).</td>\n",
       "                        <td id=\"T_37462dee_c446_11ea_ba0c_10e7c6f3c284row0_col2\" class=\"data row0 col2\" >p_v_2D.ipynb</td>\n",
       "            </tr>\n",
       "            <tr>\n",
       "                        <th id=\"T_37462dee_c446_11ea_ba0c_10e7c6f3c284level0_row1\" class=\"row_heading level0 row1\" >1</th>\n",
       "                        <td id=\"T_37462dee_c446_11ea_ba0c_10e7c6f3c284row1_col0\" class=\"data row1 col0\" >112-000</td>\n",
       "                        <td id=\"T_37462dee_c446_11ea_ba0c_10e7c6f3c284row1_col1\" class=\"data row1 col1\" >Fase-trantsizioen ondoriozko bolumen molarraren aldakuntza.</td>\n",
       "                        <td id=\"T_37462dee_c446_11ea_ba0c_10e7c6f3c284row1_col2\" class=\"data row1 col2\" >phase_transition_volume.ipynb</td>\n",
       "            </tr>\n",
       "            <tr>\n",
       "                        <th id=\"T_37462dee_c446_11ea_ba0c_10e7c6f3c284level0_row2\" class=\"row_heading level0 row2\" >2</th>\n",
       "                        <td id=\"T_37462dee_c446_11ea_ba0c_10e7c6f3c284row2_col0\" class=\"data row2 col0\" >113-000</td>\n",
       "                        <td id=\"T_37462dee_c446_11ea_ba0c_10e7c6f3c284row2_col1\" class=\"data row2 col1\" >Zenbait elementu eta konposatuen puntu kritikoen kokapena.</td>\n",
       "                        <td id=\"T_37462dee_c446_11ea_ba0c_10e7c6f3c284row2_col2\" class=\"data row2 col2\" >critical_points.ipynb</td>\n",
       "            </tr>\n",
       "            <tr>\n",
       "                        <th id=\"T_37462dee_c446_11ea_ba0c_10e7c6f3c284level0_row3\" class=\"row_heading level0 row3\" >3</th>\n",
       "                        <td id=\"T_37462dee_c446_11ea_ba0c_10e7c6f3c284row3_col0\" class=\"data row3 col0\" >114-000</td>\n",
       "                        <td id=\"T_37462dee_c446_11ea_ba0c_10e7c6f3c284row3_col1\" class=\"data row3 col1\" >Van der Waals-en parametroek lerro isotermoen itxuran duten eragina eta horren esangura fisikoa.</td>\n",
       "                        <td id=\"T_37462dee_c446_11ea_ba0c_10e7c6f3c284row3_col2\" class=\"data row3 col2\" >effect_of_a_and_b.ipynb</td>\n",
       "            </tr>\n",
       "            <tr>\n",
       "                        <th id=\"T_37462dee_c446_11ea_ba0c_10e7c6f3c284level0_row4\" class=\"row_heading level0 row4\" >4</th>\n",
       "                        <td id=\"T_37462dee_c446_11ea_ba0c_10e7c6f3c284row4_col0\" class=\"data row4 col0\" >115-000</td>\n",
       "                        <td id=\"T_37462dee_c446_11ea_ba0c_10e7c6f3c284row4_col1\" class=\"data row4 col1\" >Zenbait elementu eta konposatuen lerro isotermoen itxura.</td>\n",
       "                        <td id=\"T_37462dee_c446_11ea_ba0c_10e7c6f3c284row4_col2\" class=\"data row4 col2\" >compare_elements.ipynb</td>\n",
       "            </tr>\n",
       "            <tr>\n",
       "                        <th id=\"T_37462dee_c446_11ea_ba0c_10e7c6f3c284level0_row5\" class=\"row_heading level0 row5\" >5</th>\n",
       "                        <td id=\"T_37462dee_c446_11ea_ba0c_10e7c6f3c284row5_col0\" class=\"data row5 col0\" >116-000</td>\n",
       "                        <td id=\"T_37462dee_c446_11ea_ba0c_10e7c6f3c284row5_col1\" class=\"data row5 col1\" >Jariakin baten $p(v, T)$ lerro isotermooen hiru dimentsioko azterketa (aldagai laburtutan).</td>\n",
       "                        <td id=\"T_37462dee_c446_11ea_ba0c_10e7c6f3c284row5_col2\" class=\"data row5 col2\" >p_v_T_3D.ipynb</td>\n",
       "            </tr>\n",
       "            <tr>\n",
       "                        <th id=\"T_37462dee_c446_11ea_ba0c_10e7c6f3c284level0_row6\" class=\"row_heading level0 row6\" >6</th>\n",
       "                        <td id=\"T_37462dee_c446_11ea_ba0c_10e7c6f3c284row6_col0\" class=\"data row6 col0\" >117-000</td>\n",
       "                        <td id=\"T_37462dee_c446_11ea_ba0c_10e7c6f3c284row6_col1\" class=\"data row6 col1\" >Lerro isotermoetan oinarritutako potentzial kimikoaren eraikuntza.</td>\n",
       "                        <td id=\"T_37462dee_c446_11ea_ba0c_10e7c6f3c284row6_col2\" class=\"data row6 col2\" >chemical_potential.ipynb</td>\n",
       "            </tr>\n",
       "            <tr>\n",
       "                        <th id=\"T_37462dee_c446_11ea_ba0c_10e7c6f3c284level0_row7\" class=\"row_heading level0 row7\" >7</th>\n",
       "                        <td id=\"T_37462dee_c446_11ea_ba0c_10e7c6f3c284row7_col0\" class=\"data row7 col0\" >118-000</td>\n",
       "                        <td id=\"T_37462dee_c446_11ea_ba0c_10e7c6f3c284row7_col1\" class=\"data row7 col1\" >Van der Waals-en egoera-ekuazio mekanikoaren analisia.</td>\n",
       "                        <td id=\"T_37462dee_c446_11ea_ba0c_10e7c6f3c284row7_col2\" class=\"data row7 col2\" >mathematical_analysis.ipynb</td>\n",
       "            </tr>\n",
       "            <tr>\n",
       "                        <th id=\"T_37462dee_c446_11ea_ba0c_10e7c6f3c284level0_row8\" class=\"row_heading level0 row8\" >8</th>\n",
       "                        <td id=\"T_37462dee_c446_11ea_ba0c_10e7c6f3c284row8_col0\" class=\"data row8 col0\" >119-000</td>\n",
       "                        <td id=\"T_37462dee_c446_11ea_ba0c_10e7c6f3c284row8_col1\" class=\"data row8 col1\" >Van der Waals-en parametroek egoera-ekuazio mekanikoan duten eragina.</td>\n",
       "                        <td id=\"T_37462dee_c446_11ea_ba0c_10e7c6f3c284row8_col2\" class=\"data row8 col2\" >parameters_analysis.ipynb</td>\n",
       "            </tr>\n",
       "            <tr>\n",
       "                        <th id=\"T_37462dee_c446_11ea_ba0c_10e7c6f3c284level0_row9\" class=\"row_heading level0 row9\" >9</th>\n",
       "                        <td id=\"T_37462dee_c446_11ea_ba0c_10e7c6f3c284row9_col0\" class=\"data row9 col0\" >11A-000</td>\n",
       "                        <td id=\"T_37462dee_c446_11ea_ba0c_10e7c6f3c284row9_col1\" class=\"data row9 col1\" >Lerro isotermoetan oinarritutako egonkortasunaren azterketa.</td>\n",
       "                        <td id=\"T_37462dee_c446_11ea_ba0c_10e7c6f3c284row9_col2\" class=\"data row9 col2\" >stability.ipynb</td>\n",
       "            </tr>\n",
       "            <tr>\n",
       "                        <th id=\"T_37462dee_c446_11ea_ba0c_10e7c6f3c284level0_row10\" class=\"row_heading level0 row10\" >10</th>\n",
       "                        <td id=\"T_37462dee_c446_11ea_ba0c_10e7c6f3c284row10_col0\" class=\"data row10 col0\" >11B-000</td>\n",
       "                        <td id=\"T_37462dee_c446_11ea_ba0c_10e7c6f3c284row10_col1\" class=\"data row10 col1\" >Jariakin baten $p(T)$ diagrama eta Gibbs-en potentzialaren itxura.</td>\n",
       "                        <td id=\"T_37462dee_c446_11ea_ba0c_10e7c6f3c284row10_col2\" class=\"data row10 col2\" >p_T_2D.ipynb</td>\n",
       "            </tr>\n",
       "            <tr>\n",
       "                        <th id=\"T_37462dee_c446_11ea_ba0c_10e7c6f3c284level0_row11\" class=\"row_heading level0 row11\" >11</th>\n",
       "                        <td id=\"T_37462dee_c446_11ea_ba0c_10e7c6f3c284row11_col0\" class=\"data row11 col0\" >11C-000</td>\n",
       "                        <td id=\"T_37462dee_c446_11ea_ba0c_10e7c6f3c284row11_col1\" class=\"data row11 col1\" >Van der Waals-en parametroek lerro isotermoen itxuran duten eragina eta horren esangura fisikoa (aldagai laburtutan).</td>\n",
       "                        <td id=\"T_37462dee_c446_11ea_ba0c_10e7c6f3c284row11_col2\" class=\"data row11 col2\" >effect_of_a_and_b_reduced.ipynb</td>\n",
       "            </tr>\n",
       "            <tr>\n",
       "                        <th id=\"T_37462dee_c446_11ea_ba0c_10e7c6f3c284level0_row12\" class=\"row_heading level0 row12\" >12</th>\n",
       "                        <td id=\"T_37462dee_c446_11ea_ba0c_10e7c6f3c284row12_col0\" class=\"data row12 col0\" >11D-000</td>\n",
       "                        <td id=\"T_37462dee_c446_11ea_ba0c_10e7c6f3c284row12_col1\" class=\"data row12 col1\" >Fase-trantsizioen ondoriozko entropia molarraren aldakuntza.</td>\n",
       "                        <td id=\"T_37462dee_c446_11ea_ba0c_10e7c6f3c284row12_col2\" class=\"data row12 col2\" >entropy.ipynb</td>\n",
       "            </tr>\n",
       "    </tbody></table>"
      ],
      "text/plain": [
       "<pandas.io.formats.style.Styler at 0x1e08f245eb8>"
      ]
     },
     "metadata": {},
     "output_type": "display_data"
    }
   ],
   "source": [
    "display(taula)"
   ]
  },
  {
   "cell_type": "code",
   "execution_count": 40,
   "metadata": {
    "hide_input": true,
    "init_cell": true,
    "slideshow": {
     "slide_type": "skip"
    }
   },
   "outputs": [],
   "source": [
    "docs_iframe = IFrame(\n",
    "    src=\"https://minervalab.readthedocs.io/en/latest/Applications.html\",\n",
    "    width=\"100%\",\n",
    "    height=\"700\"\n",
    ")\n",
    "\n",
    "docs_out = widgets.Output(\n",
    "    layout = widgets.Layout(\n",
    "        width='72%'\n",
    "    )\n",
    ")\n",
    "\n",
    "with docs_out:\n",
    "    display(docs_iframe)"
   ]
  },
  {
   "cell_type": "markdown",
   "metadata": {
    "cell_style": "center",
    "slideshow": {
     "slide_type": "skip"
    }
   },
   "source": [
    "<div style=\"text-align: right; border-right: 3px solid rgba(255, 190, 25, .5); padding-right: 30px;\">\n",
    "    <h4>Van der Waals-en egoera ekuazioa</h4>\n",
    "<h4 style=\"color:rgba(0,0,0,0.5); margin-top: 25px\">#111-000, #114-000, #116-000, #118-000, #119-000, #11C-000</h4>\n",
    "    <h4 style=\"color:rgba(0,0,0,0.5)\">Puntu kritikoa</h4>\n",
    "    <h4 style=\"color:rgba(0,0,0,0.5)\">Maxwell-en eraikuntza</h4>\n",
    "    <h4 style=\"color:rgba(0,0,0,0.5)\">Potentzial kimikoa</h4>\n",
    "    <h4 style=\"color:rgba(0,0,0,0.5)\">Egonkortasun baldintzak</h4>\n",
    "    <h4 style=\"color:rgba(0,0,0,0.5)\">Propietateen aldaketa ez-jarraituak</h4>\n",
    "</div>"
   ]
  },
  {
   "cell_type": "markdown",
   "metadata": {
    "cell_style": "center",
    "slideshow": {
     "slide_type": "skip"
    }
   },
   "source": [
    "<div style=\"text-align: left; padding-right: 30px;\">\n",
    "\n",
    "    <h4>#113-000, #115-000</h4>S\n",
    "    <h4 style=\"line-height:1.5\">#117-000</h4>\n",
    "        <h4 style=\"line-height:1.5\">#11A-000, #11B-000</h4>\n",
    "    <h4 style=\"line-height:1.5\">#112-000, #11D-000</h4>\n",
    "</div>"
   ]
  },
  {
   "cell_type": "markdown",
   "metadata": {
    "cell_style": "split",
    "slideshow": {
     "slide_type": "subslide"
    }
   },
   "source": [
    "<div style=\"text-align: right; border-right: 3px solid rgba(255, 190, 25, .5); padding-right: 30px;\">\n",
    "<h4 style=\"\">Van der Waals-en egoera ekuazioa</h4>\n",
    "<h4 style=\"color:rgba(0,0,0,0.5); margin-top: 30px;\">#111-000,   #114-000,   #116-000</h4>\n",
    "<h4 style=\"color:rgba(0,0,0,0.5); margin-top: 30px;\">#118-000,   #119-000,   #11C-000</h4>\n",
    " <h4 style=\"margin-top: 90px\">Puntu kritikoa</h4>\n",
    "<h4 style=\"color:rgba(0,0,0,0.5); margin-top: 30px;\">#113-000,   #115-000</h4>\n",
    " <h4 style=\"margin-top: 90px\">Maxwell-en eraikuntza</h4>\n",
    "<h4 style=\"color:rgba(0,0,0,0.5); margin-top: 30px;\">#117-000</h4>\n",
    "\n",
    "</div>"
   ]
  },
  {
   "cell_type": "markdown",
   "metadata": {
    "cell_style": "split"
   },
   "source": [
    "<div style=\"text-align: left; padding-right: 30px;\">\n",
    " <h4 style=\"\">Potentzial kimikoa</h4>\n",
    " <h4 style=\"color:rgba(0,0,0,0.5); margin-top: 30px;\">#117-000</h4>\n",
    " <h4 style=\"margin-top: 150px\">Egonkortasun baldintzak</h4>\n",
    " <h4 style=\"color:rgba(0,0,0,0.5); margin-top: 30px;\">#11A-000,   #11B-000</h4>\n",
    " <h4 style=\"margin-top: 90px\">Propietateen aldaketa ez-jarraituak</h4>\n",
    " <h4 style=\"color:rgba(0,0,0,0.5); margin-top: 30px;\">#112-000,   #11D-000</h4>\n",
    "</div>"
   ]
  },
  {
   "cell_type": "markdown",
   "metadata": {
    "slideshow": {
     "slide_type": "subslide"
    }
   },
   "source": [
    "<h3 style=\"margin: 0 0 0 0\">Adibide bat: lerro isotermoak eta Maxwell-en eraikuntza</h3>\n",
    "<hr style=\"margin: 10px 0 10px 0;border: 3px solid #ffbe19;border-radius: 3px; opacity: 0.5;\">\n",
    "<h3 style=\"margin: 0 0 0 0\">#111-000 programa</h3>"
   ]
  },
  {
   "cell_type": "code",
   "execution_count": 41,
   "metadata": {
    "init_cell": true,
    "slideshow": {
     "slide_type": "skip"
    }
   },
   "outputs": [
    {
     "data": {
      "text/html": [
       "<head><link rel='stylesheet' type='text/css' href='./../../static/custom.css'></head>"
      ],
      "text/plain": [
       "<IPython.core.display.HTML object>"
      ]
     },
     "metadata": {},
     "output_type": "display_data"
    },
    {
     "data": {
      "text/html": [
       "<style>.container { width:100% !important; } .jupyter-button {white-space: normal !important;}</style>"
      ],
      "text/plain": [
       "<IPython.core.display.HTML object>"
      ]
     },
     "metadata": {},
     "output_type": "display_data"
    },
    {
     "data": {
      "application/javascript": [
       "\n",
       "//Get the URL of the current notebook\n",
       "\n",
       "var kernel = Jupyter.notebook.kernel; \n",
       "var command = [\"notebook_url = \",\n",
       "               \"'\", window.location.href, \"'\" ].join('')\n",
       "\n",
       "kernel.execute(command)\n"
      ],
      "text/plain": [
       "<IPython.core.display.Javascript object>"
      ]
     },
     "metadata": {},
     "output_type": "display_data"
    }
   ],
   "source": [
    "%run -n p_v_2D.ipynb"
   ]
  },
  {
   "cell_type": "code",
   "execution_count": 42,
   "metadata": {
    "hide_input": true,
    "init_cell": true,
    "scrolled": false
   },
   "outputs": [
    {
     "data": {
      "application/vnd.jupyter.widget-view+json": {
       "model_id": "0ecc0c8d63874d2cb46df8bb48dcc4f5",
       "version_major": 2,
       "version_minor": 0
      },
      "text/plain": [
       "VBox(children=(VBox(children=(ToggleButton(value=False, description='Presentation mode (OFF)', icon='desktop',…"
      ]
     },
     "metadata": {},
     "output_type": "display_data"
    }
   ],
   "source": [
    "main_block_111_000"
   ]
  },
  {
   "cell_type": "code",
   "execution_count": 43,
   "metadata": {
    "hide_input": true,
    "init_cell": true,
    "scrolled": false,
    "slideshow": {
     "slide_type": "subslide"
    }
   },
   "outputs": [
    {
     "data": {
      "application/vnd.jupyter.widget-view+json": {
       "model_id": "21b1bde88e764c70a75ed6e7f4ec2955",
       "version_major": 2,
       "version_minor": 0
      },
      "text/plain": [
       "HBox(children=(HTML(value='<h2>Dokumentazioa</h2><hr style=\"border: 3px solid #ffbe19; border-radius: 3px; opa…"
      ]
     },
     "metadata": {},
     "output_type": "display_data"
    }
   ],
   "source": [
    "widgets.HBox([\n",
    "    widgets.HTML(\n",
    "        value='<h2>Dokumentazioa</h2><hr style=\"border: 3px solid #ffbe19; border-radius: 3px; opacity: 0.5;\">',\n",
    "        layout = widgets.Layout(\n",
    "            width='25%',\n",
    "            margin = 'auto 30px auto auto'\n",
    "        )\n",
    "    ),\n",
    "    docs_out\n",
    "],\n",
    "    layout = widgets.Layout(\n",
    "        width='100%',\n",
    "        align_items = 'center'\n",
    "    )\n",
    ")"
   ]
  },
  {
   "cell_type": "code",
   "execution_count": 44,
   "metadata": {
    "hide_input": true,
    "init_cell": true,
    "slideshow": {
     "slide_type": "skip"
    }
   },
   "outputs": [],
   "source": [
    "azalpenak_iframe = IFrame(\n",
    "    src=\"https://minervalab.readthedocs.io/en/latest/Azalpen_teorikoak.html\",\n",
    "    width=\"100%\",\n",
    "    height=\"700\"\n",
    ")\n",
    "\n",
    "azalpenak_out = widgets.Output(\n",
    "    layout = widgets.Layout(\n",
    "        width='72%'\n",
    "    )\n",
    ")\n",
    "\n",
    "with azalpenak_out:\n",
    "    display(azalpenak_iframe)"
   ]
  },
  {
   "cell_type": "code",
   "execution_count": 45,
   "metadata": {
    "hide_input": true,
    "init_cell": true,
    "slideshow": {
     "slide_type": "subslide"
    }
   },
   "outputs": [
    {
     "data": {
      "application/vnd.jupyter.widget-view+json": {
       "model_id": "c0a89450bfd844988e444f9f17dd37db",
       "version_major": 2,
       "version_minor": 0
      },
      "text/plain": [
       "HBox(children=(HTML(value='<h2>Azalpen teorikoak</h2><hr style=\"border: 3px solid #ffbe19; border-radius: 3px;…"
      ]
     },
     "metadata": {},
     "output_type": "display_data"
    }
   ],
   "source": [
    "widgets.HBox([\n",
    "    widgets.HTML(\n",
    "        value='<h2>Azalpen teorikoak</h2><hr style=\"border: 3px solid #ffbe19; border-radius: 3px; opacity: 0.5;\">',\n",
    "        layout = widgets.Layout(\n",
    "            width='25%',\n",
    "            margin = 'auto 30px auto auto'\n",
    "        )\n",
    "    ),\n",
    "    azalpenak_out\n",
    "],\n",
    "    layout = widgets.Layout(\n",
    "        width='100%',\n",
    "        align_items = 'center'\n",
    "    )\n",
    ")"
   ]
  },
  {
   "cell_type": "markdown",
   "metadata": {
    "slideshow": {
     "slide_type": "subslide"
    }
   },
   "source": [
    "<h2 style=\"margin: 0 0 0 0\">Kontrol-saioa</h2>\n",
    "<hr style=\"margin: 10px 0 0 0;border: 3px solid #ffbe19;border-radius: 3px; opacity: 0.5;\">\n",
    "\n",
    "<h4>2019ko abenduaren 12an:</h4>\n",
    "\n",
    "<ul>\n",
    "    <li><h4>33 ikaslez osatutako taldea</h4></li>\n",
    "    <li><h4>6 eskola-ordu teoriko + aplikazioetan oinarritutako ordu bakarra</h4></li>\n",
    "    <li><h4>16 galdera eta iruzkin askea</h4></li>\n",
    "</ul>"
   ]
  },
  {
   "cell_type": "markdown",
   "metadata": {
    "hide_input": true,
    "slideshow": {
     "slide_type": "skip"
    }
   },
   "source": [
    "<h3 style=\"margin: 0 0 0 0\">Galderen emaitzak</h3>\n",
    "<hr style=\"margin: 10px 0 0 0;border: 3px solid #ffbe19;border-radius: 3px; opacity: 0.5;\">"
   ]
  },
  {
   "cell_type": "code",
   "execution_count": 46,
   "metadata": {
    "hide_input": false,
    "init_cell": true,
    "scrolled": false,
    "slideshow": {
     "slide_type": "skip"
    }
   },
   "outputs": [
    {
     "data": {
      "application/vnd.jupyter.widget-view+json": {
       "model_id": "70a7652873744987bc78a57e595c06f1",
       "version_major": 2,
       "version_minor": 0
      },
      "text/plain": [
       "VBox(children=(HTML(value='<h2>Tresnak nire atentzioa deitu du</h2>', layout=Layout(align_self='center')), HBo…"
      ]
     },
     "metadata": {},
     "output_type": "display_data"
    }
   ],
   "source": [
    "inkestak_block "
   ]
  },
  {
   "cell_type": "code",
   "execution_count": 47,
   "metadata": {
    "init_cell": true,
    "slideshow": {
     "slide_type": "skip"
    }
   },
   "outputs": [],
   "source": [
    "def aldatu_galdera_2(change):\n",
    "    \n",
    "    index = galdera_aldatu_dropdown_2.index\n",
    "    \n",
    "    galdera = galdera_aldatu_dropdown_2.value\n",
    "\n",
    "    galdera_html_2.value = \"<h2>\"+galdera+\"</h2>\"\n",
    "    \n",
    "    bai = galde_hist_totala[index].get('Bai')\n",
    "    ez = galde_hist_totala[index].get('Ez')\n",
    "    biak = galde_hist_totala[index].get('Biak')\n",
    "    \n",
    "    i = formatua_dropdown.index\n",
    "    \n",
    "    if i == 0:\n",
    "    \n",
    "        bar_chart_biak.scales['y'].max = 33\n",
    "    \n",
    "        bar_chart_biak.y = [\n",
    "            bai,\n",
    "            ez,\n",
    "            biak\n",
    "        ]\n",
    "        \n",
    "        y_ax_2.scale.max = 33\n",
    "        y_ax_2.label = 'Kopurua'\n",
    "    \n",
    "    elif i == 1:\n",
    "    \n",
    "        #kop = kop_totala[index]\n",
    "\n",
    "        kop = bai + ez + biak\n",
    "        \n",
    "        bar_chart_biak.scales['y'].max = 100\n",
    "        \n",
    "        bar_chart_biak.y = [\n",
    "            bai/kop*100,\n",
    "            ez/kop*100,\n",
    "            biak/kop*100\n",
    "        ]\n",
    "        \n",
    "        y_ax_2.scale.max = 100\n",
    "        y_ax_2.label = 'Kopurua (%)'"
   ]
  },
  {
   "cell_type": "code",
   "execution_count": 48,
   "metadata": {
    "init_cell": true,
    "slideshow": {
     "slide_type": "skip"
    }
   },
   "outputs": [],
   "source": [
    "inkestak_block_2 = widgets.VBox(\n",
    "    [],\n",
    "    layout=widgets.Layout(width='100%')\n",
    ")\n",
    "\n",
    "sc_ord_2 = bqs.OrdinalScale()\n",
    "sc_y_3 = bqs.LinearScale(min=0, max=33)\n",
    "\n",
    "bar_chart_biak = bqm.Bars(\n",
    "    x=['Bai', 'Ez', 'Biak'],\n",
    "    y=[],\n",
    "    scales={'x': sc_ord_2, 'y': sc_y_3},\n",
    "    labels=['Bai', 'Ez', 'Biak'],\n",
    "     colors = ['#828282','#ffdd87','#bdbdbd'],\n",
    ")\n",
    "\n",
    "ord_ax_2 = Axis(\n",
    "    label='Erantzunak',\n",
    "    scale=sc_ord_2,\n",
    "    grid_lines='none',\n",
    "    tick_style = {'font-size': '25px'},\n",
    "    label_offset = '50px'\n",
    ")\n",
    "\n",
    "y_ax_2 = Axis(\n",
    "    label='Kopurua',\n",
    "    scale=sc_y_3,\n",
    "    orientation='vertical',\n",
    "    grid_lines='solid',\n",
    "    tick_style = {'font-size': '25px'},\n",
    "    label_offset = '70px'\n",
    ")\n",
    "\n",
    "figura_emaitzak_biak = bq.Figure(\n",
    "    title= '',\n",
    "    axes=[ord_ax_2, y_ax_2],\n",
    "    marks=[bar_chart_biak],\n",
    "    animation_duration = 500,\n",
    "    fig_margin=dict(top=10, bottom=60, left=80, right=30),\n",
    "    padding_x = 0.12,\n",
    "    padding_y = 0.05\n",
    ")\n",
    "\n",
    "galdera_html_2 = widgets.HTML(\n",
    "    value = \"<h4></h4>\",\n",
    "    layout = widgets.Layout(\n",
    "        align_self = 'center'\n",
    "    )\n",
    ")\n",
    "\n",
    "formatua_dropdown = widgets.Dropdown(\n",
    "    options=['Kopuru osoa', 'Ehunekoak'],\n",
    "    value='Kopuru osoa',\n",
    "    description='',\n",
    "    disabled=False,\n",
    "    layout = widgets.Layout(\n",
    "        width = '90%',\n",
    "    )\n",
    ")\n",
    "\n",
    "formatua_dropdown.observe(aldatu_galdera_2,'value')\n",
    "\n",
    "galdera_aldatu_dropdown_2 = widgets.Dropdown(\n",
    "    options=galdera_guztiak,\n",
    "    value=galderak[1],\n",
    "    description='',\n",
    "    disabled=False,\n",
    "    layout = widgets.Layout(\n",
    "        width = '90%',\n",
    "    )\n",
    ")\n",
    "\n",
    "galdera_aldatu_dropdown_2.observe(aldatu_galdera_2,'value')\n",
    "\n",
    "galdera_aldatu_dropdown_2.value = galderak[0]\n",
    "\n",
    "inkestak_block_2.children = [\n",
    "    galdera_html_2,\n",
    "    widgets.HBox([\n",
    "        widgets.VBox([\n",
    "        figura_emaitzak_biak\n",
    "    ],\n",
    "        layout=widgets.Layout(width='60%')\n",
    "    ),\n",
    "    widgets.VBox([\n",
    "        widgets.HTML(\n",
    "            value = \"<h3>Galdera:</h3>\",\n",
    "        ),\n",
    "        galdera_aldatu_dropdown_2,\n",
    "        \n",
    "        widgets.HTML(\n",
    "            value = \"<br><h3>Formatua:</h3>\",\n",
    "        ),\n",
    "        formatua_dropdown\n",
    "    ],\n",
    "        layout=widgets.Layout(\n",
    "            width='38%',\n",
    "            align_self = 'center'\n",
    "        )\n",
    "    ),\n",
    "    ],\n",
    "    layout=widgets.Layout(width='100%')\n",
    ")\n",
    "]"
   ]
  },
  {
   "cell_type": "markdown",
   "metadata": {
    "slideshow": {
     "slide_type": "subslide"
    }
   },
   "source": [
    "<h3 style=\"margin: 0 0 0 0\">Galderen emaitzak</h3>\n",
    "<hr style=\"margin: 10px 0 0 0;border: 3px solid #ffbe19;border-radius: 3px; opacity: 0.5;\">"
   ]
  },
  {
   "cell_type": "code",
   "execution_count": 49,
   "metadata": {
    "hide_input": true,
    "init_cell": true
   },
   "outputs": [
    {
     "data": {
      "application/vnd.jupyter.widget-view+json": {
       "model_id": "917220dddba24e18927fa601848e6dca",
       "version_major": 2,
       "version_minor": 0
      },
      "text/plain": [
       "VBox(children=(HTML(value='<h2>Tresnak nire atentzioa deitu du</h2>', layout=Layout(align_self='center')), HBo…"
      ]
     },
     "metadata": {},
     "output_type": "display_data"
    }
   ],
   "source": [
    "inkestak_block_2"
   ]
  },
  {
   "cell_type": "markdown",
   "metadata": {
    "slideshow": {
     "slide_type": "skip"
    }
   },
   "source": [
    "<h3 style=\"margin: 0 0 0 0\">Iruzkinak</h3>\n",
    "<hr style=\"margin: 10px 0 0 0;border: 3px solid #ffbe19;border-radius: 3px; opacity: 0.5;\">"
   ]
  },
  {
   "cell_type": "code",
   "execution_count": 50,
   "metadata": {
    "hide_input": false,
    "init_cell": true,
    "slideshow": {
     "slide_type": "skip"
    }
   },
   "outputs": [],
   "source": [
    "iruzkinak = [\n",
    "    'Ondo egon da. Interesantea izan da eta gai honeri buruz gehiago ulertu dut, oso modu txukunean dago adierazita.',\n",
    "    'Hasierako azalpen bezala egokiagoa iruditzen zait metodo tradizionalaren bidez sarrera egitea, eta behin kontzeptuak ulertuta, sakontzeko modu oso interesgarri eta erabilgarria iruditzen zait tresna.',    \n",
    "    #'Diseinua ondo dao. Agian letrak handixeago hobe, urrunetik zaila baita irakurtzea. Gauza asko ez ditut ulertu, baina ez da tresna digitalagatik, baizik eta termoko kontzeptuak ez ditudalako menperatzen. Gehiago disfrutatuko nuke gaiak ikasi eta ulertu ostean. Hala ere, diagrama batzuek bai lagundu didate aste honetan teoria klaseetan emandakoa barneratzen. Termo ikasten seriotan hasten naizenean, begiratu bat emango diot programa honi, benetan uste dudalako ideia oso ona dela eta lagungarria izan ahal zaidala.',\n",
    "    'Diseinua ondo dao. Agian letrak handixeago hobe, urrunetik zaila baita irakurtzea. (...) diagrama batzuek bai lagundu didate aste honetan teoria klaseetan emandakoa barneratzen. Termo ikasten seriotan hasten naizenean, begiratu bat emango diot programa honi, benetan uste dudalako ideia oso ona dela eta lagungarria izan ahal zaidala.',\n",
    "]\n",
    "\n",
    "iruzkinak_box = widgets.VBox([])\n",
    "\n",
    "iruzkinak_html = []\n",
    "\n",
    "for iruzkina in iruzkinak:\n",
    "    \n",
    "    iruzkinak_html.append(\n",
    "        widgets.HTML(\n",
    "            value = '<h2><i>\"'+iruzkina+'\"</i></h2><br>'\n",
    "        )\n",
    "    )\n",
    "    \n",
    "iruzkinak_box.children = iruzkinak_html"
   ]
  },
  {
   "cell_type": "code",
   "execution_count": 51,
   "metadata": {
    "hide_input": false,
    "init_cell": true,
    "slideshow": {
     "slide_type": "skip"
    }
   },
   "outputs": [
    {
     "data": {
      "application/vnd.jupyter.widget-view+json": {
       "model_id": "d210672f1316493ba0ef3929b3913ab3",
       "version_major": 2,
       "version_minor": 0
      },
      "text/plain": [
       "VBox(children=(HTML(value='<h2><i>\"Ondo egon da. Interesantea izan da eta gai honeri buruz gehiago ulertu dut,…"
      ]
     },
     "metadata": {},
     "output_type": "display_data"
    }
   ],
   "source": [
    "iruzkinak_box"
   ]
  },
  {
   "cell_type": "markdown",
   "metadata": {
    "slideshow": {
     "slide_type": "slide"
    }
   },
   "source": [
    "<h2 style=\"margin: 0 0 0 0\">Ondorioak</h2>\n",
    "<hr style=\"margin: 10px 0 0 0;border: 3px solid #ffbe19;border-radius: 3px; opacity: 0.5;\">"
   ]
  },
  {
   "cell_type": "markdown",
   "metadata": {
    "slideshow": {
     "slide_type": "fragment"
    }
   },
   "source": [
    "<ul>\n",
    "<li>\n",
    "    <h4>Proposatutako tresnak maila ezberdinetan aplika daitezke.</h4>\n",
    "</li>\n",
    "</ul>"
   ]
  },
  {
   "cell_type": "markdown",
   "metadata": {
    "slideshow": {
     "slide_type": "fragment"
    }
   },
   "source": [
    "<ul>\n",
    "<li>\n",
    "    <h4>Material guztia modu eraginkor batean sortu eta argitaratu da.</h4>\n",
    "</li>\n",
    "</ul>"
   ]
  },
  {
   "cell_type": "markdown",
   "metadata": {
    "slideshow": {
     "slide_type": "fragment"
    }
   },
   "source": [
    "<ul>\n",
    "<li>\n",
    "    <h4>Irakaskuntza-baliabide berriak sortu dira.</h4>\n",
    "</li>\n",
    "</ul>"
   ]
  },
  {
   "cell_type": "markdown",
   "metadata": {
    "slideshow": {
     "slide_type": "fragment"
    }
   },
   "source": [
    "<ul>\n",
    "<li>\n",
    "    <h4>Inkesten emaitzak oso positiboak izan dira.</h4>\n",
    "</li>\n",
    "</ul>"
   ]
  },
  {
   "cell_type": "markdown",
   "metadata": {
    "slideshow": {
     "slide_type": "subslide"
    }
   },
   "source": [
    "<h2 style=\"margin: 0 0 0 0\">Etorkizuneko lana</h2>\n",
    "<hr style=\"margin: 10px 0 0 0;border: 3px solid #ffbe19;border-radius: 3px; opacity: 0.5;\">"
   ]
  },
  {
   "cell_type": "markdown",
   "metadata": {
    "slideshow": {
     "slide_type": "fragment"
    }
   },
   "source": [
    "<ul>\n",
    "<li>\n",
    "    <h4>MinervaLab-ekin jarraitu: materiala hobetu eta gai berriak landu.</h4>\n",
    "</li>\n",
    "</ul>"
   ]
  },
  {
   "cell_type": "markdown",
   "metadata": {
    "slideshow": {
     "slide_type": "fragment"
    }
   },
   "source": [
    "<ul>\n",
    "<li>\n",
    "    <h4>Beste irakasgai/proiektu batzuetan aplikatu.</h4>\n",
    "</li>\n",
    "</ul>"
   ]
  },
  {
   "cell_type": "markdown",
   "metadata": {
    "slideshow": {
     "slide_type": "subslide"
    }
   },
   "source": [
    "<h3 style=\"margin: 0 0 0 0\">MinervaLab</h3>\n",
    "<hr style=\"margin: 10px 0 0 0;border: 3px solid #ffbe19;border-radius: 3px; opacity: 0.5;\">"
   ]
  },
  {
   "cell_type": "markdown",
   "metadata": {
    "cell_style": "split"
   },
   "source": [
    "<div style=\"text-align: right; padding-right: 30px; margin-top: 80px\">\n",
    "    <h3>Minerva</h3>\n",
    "    <h4 style=\"\">Jakinduriaren eta arteen jainkosa.</h4>\n",
    "    <h4 style=\"\">Artisauen patroia.</h4>\n",
    "    <h4 style=\"\">Jupiter-en alaba.</h4>\n",
    "</div>"
   ]
  },
  {
   "cell_type": "markdown",
   "metadata": {
    "cell_style": "split"
   },
   "source": [
    "<center>\n",
    "    <img src=\"static/images/minerva.png\" style=\"width: 60%\">\n",
    "</center>"
   ]
  },
  {
   "cell_type": "markdown",
   "metadata": {
    "slideshow": {
     "slide_type": "subslide"
    }
   },
   "source": [
    "<h3 style=\"margin: 0 0 0 0\">Product Breakdown Structure (PBS)</h3>\n",
    "<hr style=\"margin: 10px 0 0 0;border: 3px solid #ffbe19;border-radius: 3px; opacity: 0.5;\">"
   ]
  },
  {
   "cell_type": "markdown",
   "metadata": {
    "cell_style": "split",
    "slideshow": {
     "slide_type": "fragment"
    }
   },
   "source": [
    "<div style=\" border-right: 3px solid rgba(255, 190, 25, .5); padding-right: 30px;\">\n",
    "    <h4 style=\"\">Proiektuen kudeaketa burutu</h4>\n",
    "    <h4 style=\"\">Eskalagarria</h4>\n",
    "    <h4 style=\"line-height: 1.5\">Helburu anitzetara egokitua</h4>\n",
    "</div>"
   ]
  },
  {
   "cell_type": "markdown",
   "metadata": {
    "cell_style": "split",
    "slideshow": {
     "slide_type": "fragment"
    }
   },
   "source": [
    "<center>\n",
    "<div style=\"width: 70%; margin: auto\">\n",
    "<h1 style=\"font-size: 120px; margin-top: 100px\">#111-000</h1>\n",
    "</div>\n",
    "</center>"
   ]
  },
  {
   "cell_type": "markdown",
   "metadata": {
    "slideshow": {
     "slide_type": "subslide"
    }
   },
   "source": [
    "<h3 style=\"margin: 0 0 0 0\">Product Breakdown Structure (PBS)</h3>\n",
    "<hr style=\"margin: 10px 0 40px 0;border: 3px solid #ffbe19;border-radius: 3px; opacity: 0.5;\">\n",
    "\n",
    "<center>\n",
    "    <img src=\"static/images/pbs-1.png\" style=\"width: 60%\">\n",
    "</center>"
   ]
  },
  {
   "cell_type": "markdown",
   "metadata": {
    "slideshow": {
     "slide_type": "subslide"
    }
   },
   "source": [
    "<h3 style=\"margin: 0 0 0 0\">Product Breakdown Structure (PBS)</h3>\n",
    "<hr style=\"margin: 10px 0 0 0;border: 3px solid #ffbe19;border-radius: 3px; opacity: 0.5;\">"
   ]
  },
  {
   "cell_type": "code",
   "execution_count": 52,
   "metadata": {
    "hide_input": true,
    "scrolled": false
   },
   "outputs": [
    {
     "data": {
      "text/html": [
       "\n",
       "        <iframe\n",
       "            width=\"100%\"\n",
       "            height=\"700px\"\n",
       "            src=\"static/images/pbs-2.pdf\"\n",
       "            frameborder=\"0\"\n",
       "            allowfullscreen\n",
       "        ></iframe>\n",
       "        "
      ],
      "text/plain": [
       "<IPython.lib.display.IFrame at 0x1e09123c198>"
      ]
     },
     "execution_count": 52,
     "metadata": {},
     "output_type": "execute_result"
    }
   ],
   "source": [
    "IFrame(src=\"static/images/pbs-2.pdf\", width=\"100%\", height=\"700px\")"
   ]
  },
  {
   "cell_type": "markdown",
   "metadata": {
    "slideshow": {
     "slide_type": "subslide"
    }
   },
   "source": [
    "<h3 style=\"margin: 0 0 0 0\">Product Breakdown Structure (PBS)</h3>\n",
    "<hr style=\"margin: 10px 0 40px 0;border: 3px solid #ffbe19;border-radius: 3px; opacity: 0.5;\">\n",
    "\n",
    "<center>\n",
    "    <img src=\"static/images/pbs-chart.png\" style=\"width: 60%\">\n",
    "</center>"
   ]
  },
  {
   "cell_type": "markdown",
   "metadata": {
    "slideshow": {
     "slide_type": "slide"
    }
   },
   "source": [
    "<img src=\"static/images/FCT_bilingüe_postivo_alta.jpg\" alt=\"Zientzia eta Teknologia Fakultatea\" width=\"400\">"
   ]
  },
  {
   "cell_type": "markdown",
   "metadata": {
    "slideshow": {
     "slide_type": "-"
    }
   },
   "source": [
    "<center><h1 style=\"margin: 0 0 0 0;\">MinervaLab</h1></center>\n",
    "\n",
    "<hr style=\"border: 3px solid #ffbe19;border-radius: 3px; opacity: 0.5;\">\n",
    "\n",
    "<center><h4>Jupyter Notebook-etan oinarritutako irakaskuntza-proiektu alternatiboa</h4></center>"
   ]
  },
  {
   "cell_type": "markdown",
   "metadata": {},
   "source": [
    "<center>\n",
    "    <h4 style=\"margin: 80px 0 0 0;\"><i style=\"opacity: 0.5;margin: 0 30px 0 0;\">Egilea:</i> Jon Gabirondo López</h4>\n",
    "    <h4 style=\"margin: 40px 0 0 0;\"><i style=\"opacity: 0.5;margin: 0 30px 0 0;\">Zuzendaria:</i> Josu M. Igartua</h4>\n",
    "</center>"
   ]
  }
 ],
 "metadata": {
  "celltoolbar": "Slideshow",
  "kernelspec": {
   "display_name": "Python 3",
   "language": "python",
   "name": "python3"
  },
  "language_info": {
   "codemirror_mode": {
    "name": "ipython",
    "version": 3
   },
   "file_extension": ".py",
   "mimetype": "text/x-python",
   "name": "python",
   "nbconvert_exporter": "python",
   "pygments_lexer": "ipython3",
   "version": "3.7.0"
  },
  "latex_envs": {
   "LaTeX_envs_menu_present": true,
   "autoclose": false,
   "autocomplete": true,
   "bibliofile": "biblio.bib",
   "cite_by": "apalike",
   "current_citInitial": 1,
   "eqLabelWithNumbers": true,
   "eqNumInitial": 1,
   "hotkeys": {
    "equation": "Ctrl-E",
    "itemize": "Ctrl-I"
   },
   "labels_anchors": false,
   "latex_user_defs": false,
   "report_style_numbering": false,
   "user_envs_cfg": false
  },
  "rise": {
   "autolaunch": false,
   "scroll": true
  }
 },
 "nbformat": 4,
 "nbformat_minor": 4
}
